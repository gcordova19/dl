{
 "cells": [
  {
   "cell_type": "markdown",
   "metadata": {
    "id": "KOdhx8z5YURF"
   },
   "source": [
    "## Modelado"
   ]
  },
  {
   "cell_type": "code",
   "execution_count": 1,
   "metadata": {
    "id": "9WYBx-YiYuRF"
   },
   "outputs": [],
   "source": [
    "import cv2\n",
    "import numpy\n",
    "import pandas\n",
    "#import imageio.v3 as io\n",
    "\n",
    "#from tqdm import tqdm\n",
    "from typing import Optional, Union\n",
    "from sklearn.model_selection import train_test_split\n",
    "from sklearn import preprocessing\n",
    "%matplotlib inline\n"
   ]
  },
  {
   "cell_type": "markdown",
   "metadata": {},
   "source": [
    "# Train"
   ]
  },
  {
   "cell_type": "code",
   "execution_count": 2,
   "metadata": {
    "id": "DJtOJZbuqLju"
   },
   "outputs": [
    {
     "data": {
      "text/plain": [
       "(6763, 14)"
      ]
     },
     "execution_count": 2,
     "metadata": {},
     "output_type": "execute_result"
    }
   ],
   "source": [
    "# Comprobamos a abrirlos de nuevo \n",
    "saved_data_Train = pandas.read_csv(\"/tf/data/filtered_data_Train.csv\", sep=';')\n",
    "saved_data_Train[\"Zipcode\"] = saved_data_Train[\"Zipcode\"].str.replace(r'\\D', '', regex=True)\n",
    "saved_data_Train[\"Zipcode\"].fillna(\"28012\", inplace=True)  # Rellena los NaN con un valor predeterminado, como \"0\"\n",
    "saved_data_Train[\"Zipcode\"] = saved_data_Train[\"Zipcode\"].astype(int)\n",
    "\n",
    "#saved_imgs_Train = numpy.load(\"/tf/data/imageTrain.npy\")\n",
    "saved_data_Train.info()#, saved_imgs_Train.shape"
   ]
  },
  {
   "cell_type": "code",
   "execution_count": 3,
   "metadata": {
    "id": "gVKdIAnGFVJF"
   },
   "outputs": [],
   "source": [
    "y_train = saved_data_Train.iloc[:, 0:1]   # Seleccionamos la primera columna, price\n",
    "X_train = saved_data_Train.iloc[:, 1:-1]  # Seleccionamos todas las columnas excepto la primera y la última\n",
    "\n",
    "scaler = preprocessing.StandardScaler().fit(X_train)\n",
    "XtrainScaled = scaler.transform(X_train)\n",
    "\n",
    "X_train = XtrainScaled"
   ]
  },
  {
   "cell_type": "markdown",
   "metadata": {
    "id": "tJR81e6TbX_P"
   },
   "source": [
    "# Test"
   ]
  },
  {
   "cell_type": "code",
   "execution_count": 4,
   "metadata": {
    "id": "_MM1VgItqwUk"
   },
   "outputs": [
    {
     "data": {
      "text/plain": [
       "(852, 14)"
      ]
     },
     "execution_count": 4,
     "metadata": {},
     "output_type": "execute_result"
    }
   ],
   "source": [
    "# Comprobamos a abrirlos de nuevo\n",
    "saved_data_Test = pandas.read_csv(\"/tf/data/filtered_data_Test.csv\", sep=';')\n",
    "saved_data_Test[\"Zipcode\"] = saved_data_Test[\"Zipcode\"].str.replace(r'\\D', '', regex=True)\n",
    "saved_data_Test[\"Zipcode\"].fillna(\"28012\", inplace=True)  # Rellena los NaN con un valor predeterminado, como \"0\"\n",
    "saved_data_Test[\"Zipcode\"] = saved_data_Test[\"Zipcode\"].astype(int)\n",
    "#saved_imgs_Test = numpy.load(\"/tf/data/imagesTest.npy\")\n",
    "saved_data_Test.shape#, saved_imgs_Test.shape"
   ]
  },
  {
   "cell_type": "code",
   "execution_count": 5,
   "metadata": {
    "id": "2THMBGK-kAjp"
   },
   "outputs": [],
   "source": [
    "y_test = saved_data_Test.iloc[:, 0:1]      # nos quedamos con la 1ª columna, price\n",
    "X_test = saved_data_Test.iloc[:,1:-1]      # nos quedamos con el resto\n",
    "\n",
    "\n",
    "# recordad que esta normalización/escalado la realizo con el scaler anterior, basado en los datos de training!\n",
    "XtestScaled = scaler.transform(X_test)\n",
    "X_test = XtestScaled"
   ]
  },
  {
   "cell_type": "markdown",
   "metadata": {
    "id": "-m43KXUJeCsP"
   },
   "source": [
    "# Validacion"
   ]
  },
  {
   "cell_type": "code",
   "execution_count": 6,
   "metadata": {
    "id": "yLX1ByamphPV"
   },
   "outputs": [
    {
     "data": {
      "text/plain": [
       "(839, 14)"
      ]
     },
     "execution_count": 6,
     "metadata": {},
     "output_type": "execute_result"
    }
   ],
   "source": [
    "# Comprobamos a abrirlos de nuevo\n",
    "saved_data_Val = pandas.read_csv(\"/tf/data/filtered_data_Val.csv\", sep=';')\n",
    "saved_data_Val[\"Zipcode\"] = saved_data_Val[\"Zipcode\"].str.replace(r'\\D', '', regex=True)\n",
    "saved_data_Val[\"Zipcode\"].fillna(\"28012\", inplace=True)  # Rellena los NaN con un valor predeterminado, como \"0\"\n",
    "saved_data_Val[\"Zipcode\"] = saved_data_Val[\"Zipcode\"].astype(int)\n",
    "#saved_imgs_Val = numpy.load(\"/tf/data/imagesVal.npy\")\n",
    "saved_data_Val.shape#, saved_imgs_Val.shape"
   ]
  },
  {
   "cell_type": "code",
   "execution_count": 7,
   "metadata": {
    "id": "TttDEyYPlq93"
   },
   "outputs": [],
   "source": [
    "y_val = saved_data_Val.iloc[:,0:1]     # nos quedamos con la 1ª columna, price\n",
    "X_val = saved_data_Val.iloc[:,1:-1]      # nos quedamos con el resto\n",
    "\n",
    "\n",
    "# recordad que esta normalización/escalado la realizo con el scaler anterior, basado en los datos de training!\n",
    "XvalScaled = scaler.transform(X_val)\n",
    "\n",
    "X_val = XvalScaled"
   ]
  },
  {
   "cell_type": "markdown",
   "metadata": {
    "id": "mRDhGeMUuQdQ"
   },
   "source": [
    "Así, por ejemplo, cargamos y visualizamos la distribución de las etiquetas:"
   ]
  },
  {
   "cell_type": "code",
   "execution_count": 8,
   "metadata": {
    "id": "ECahaJDVuUwS"
   },
   "outputs": [
    {
     "name": "stdout",
     "output_type": "stream",
     "text": [
      "<class 'pandas.core.frame.DataFrame'>\n",
      "RangeIndex: 6763 entries, 0 to 6762\n",
      "Data columns (total 14 columns):\n",
      " #   Column             Non-Null Count  Dtype  \n",
      "---  ------             --------------  -----  \n",
      " 0   Price              6763 non-null   float64\n",
      " 1   Zipcode            5006 non-null   float64\n",
      " 2   Accommodates       6763 non-null   int64  \n",
      " 3   Bathrooms          6763 non-null   float64\n",
      " 4   Bedrooms           6763 non-null   float64\n",
      " 5   Beds               6763 non-null   float64\n",
      " 6   Security Deposit   6763 non-null   float64\n",
      " 7   Cleaning Fee       6763 non-null   float64\n",
      " 8   Guests Included    6763 non-null   int64  \n",
      " 9   Extra People       6763 non-null   int64  \n",
      " 10  Minimum Nights     6763 non-null   int64  \n",
      " 11  Maximum Nights     6763 non-null   int64  \n",
      " 12  Number of Reviews  6763 non-null   int64  \n",
      " 13  Thumbnail Url      6763 non-null   object \n",
      "dtypes: float64(7), int64(6), object(1)\n",
      "memory usage: 739.8+ KB\n"
     ]
    },
    {
     "data": {
      "image/png": "[encoded data removed]",
      "text/plain": [
       "<Figure size 640x480 with 1 Axes>"
      ]
     },
     "metadata": {},
     "output_type": "display_data"
    }
   ],
   "source": [
    "saved_data_Train['Price'].hist(bins=100)\n",
    "saved_data_Train.info()"
   ]
  },
  {
   "cell_type": "code",
   "execution_count": 9,
   "metadata": {
    "id": "BvZ6gLXA2zsZ"
   },
   "outputs": [
    {
     "name": "stdout",
     "output_type": "stream",
     "text": [
      "<class 'pandas.core.frame.DataFrame'>\n",
      "RangeIndex: 852 entries, 0 to 851\n",
      "Data columns (total 14 columns):\n",
      " #   Column             Non-Null Count  Dtype  \n",
      "---  ------             --------------  -----  \n",
      " 0   Price              852 non-null    float64\n",
      " 1   Zipcode            852 non-null    float64\n",
      " 2   Accommodates       852 non-null    int64  \n",
      " 3   Bathrooms          852 non-null    float64\n",
      " 4   Bedrooms           852 non-null    float64\n",
      " 5   Beds               852 non-null    float64\n",
      " 6   Security Deposit   852 non-null    float64\n",
      " 7   Cleaning Fee       852 non-null    float64\n",
      " 8   Guests Included    852 non-null    int64  \n",
      " 9   Extra People       852 non-null    int64  \n",
      " 10  Minimum Nights     852 non-null    int64  \n",
      " 11  Maximum Nights     852 non-null    int64  \n",
      " 12  Number of Reviews  852 non-null    int64  \n",
      " 13  Thumbnail Url      852 non-null    object \n",
      "dtypes: float64(7), int64(6), object(1)\n",
      "memory usage: 93.3+ KB\n"
     ]
    },
    {
     "data": {
      "image/png": "[encoded data removed]",
      "text/plain": [
       "<Figure size 640x480 with 1 Axes>"
      ]
     },
     "metadata": {},
     "output_type": "display_data"
    }
   ],
   "source": [
    "saved_data_Test['Price'].hist(bins=100)\n",
    "saved_data_Test.info()"
   ]
  },
  {
   "cell_type": "code",
   "execution_count": 10,
   "metadata": {},
   "outputs": [
    {
     "name": "stdout",
     "output_type": "stream",
     "text": [
      "<class 'pandas.core.frame.DataFrame'>\n",
      "RangeIndex: 839 entries, 0 to 838\n",
      "Data columns (total 14 columns):\n",
      " #   Column             Non-Null Count  Dtype  \n",
      "---  ------             --------------  -----  \n",
      " 0   Price              839 non-null    float64\n",
      " 1   Zipcode            839 non-null    float64\n",
      " 2   Accommodates       839 non-null    int64  \n",
      " 3   Bathrooms          839 non-null    float64\n",
      " 4   Bedrooms           839 non-null    float64\n",
      " 5   Beds               839 non-null    float64\n",
      " 6   Security Deposit   839 non-null    float64\n",
      " 7   Cleaning Fee       839 non-null    float64\n",
      " 8   Guests Included    839 non-null    int64  \n",
      " 9   Extra People       839 non-null    int64  \n",
      " 10  Minimum Nights     839 non-null    int64  \n",
      " 11  Maximum Nights     839 non-null    int64  \n",
      " 12  Number of Reviews  839 non-null    int64  \n",
      " 13  Thumbnail Url      839 non-null    object \n",
      "dtypes: float64(7), int64(6), object(1)\n",
      "memory usage: 91.9+ KB\n"
     ]
    },
    {
     "data": {
      "image/png": "[encoded data removed]",
      "text/plain": [
       "<Figure size 640x480 with 1 Axes>"
      ]
     },
     "metadata": {},
     "output_type": "display_data"
    }
   ],
   "source": [
    "saved_data_Val['Price'].hist(bins=100)\n",
    "saved_data_Val.info()"
   ]
  },
  {
   "cell_type": "markdown",
   "metadata": {},
   "source": [
    "# Modelo 1\n",
    "Usando los datos tabulares"
   ]
  },
  {
   "cell_type": "code",
   "execution_count": 11,
   "metadata": {},
   "outputs": [],
   "source": [
    "import numpy as np\n",
    "import tensorflow as tf\n",
    "from tensorflow.keras.models import Sequential\n",
    "from tensorflow.keras.callbacks import ModelCheckpoint\n",
    "from sklearn.metrics import mean_squared_error\n",
    "from tensorflow.keras.layers import Dense, Flatten\n",
    "from tensorflow.keras.optimizers import Adam\n",
    "import matplotlib.pyplot as plt"
   ]
  },
  {
   "cell_type": "code",
   "execution_count": 12,
   "metadata": {},
   "outputs": [
    {
     "name": "stdout",
     "output_type": "stream",
     "text": [
      "[PhysicalDevice(name='/physical_device:GPU:0', device_type='GPU')]\n",
      "GPU disponible y configurada correctamente\n"
     ]
    }
   ],
   "source": [
    "# Verificar si hay una GPU disponible\n",
    "print(tf.config.list_physical_devices('GPU'))\n",
    "gpus = tf.config.list_physical_devices('GPU')\n",
    "if gpus:\n",
    "    try:\n",
    "        # Configurar el uso de la memoria GPU\n",
    "        tf.config.experimental.set_memory_growth(gpus[0], True)\n",
    "        # Establecer el dispositivo GPU visible para Keras\n",
    "        tf.config.set_visible_devices(gpus[0], 'GPU')\n",
    "        print(\"GPU disponible y configurada correctamente\")\n",
    "    except:\n",
    "        print(\"Error al configurar la GPU\")\n",
    "else:\n",
    "    print(\"No se detectó ninguna GPU\")\n"
   ]
  },
  {
   "cell_type": "code",
   "execution_count": 13,
   "metadata": {},
   "outputs": [
    {
     "name": "stdout",
     "output_type": "stream",
     "text": [
      "X_train contiene valores NaN.\n"
     ]
    }
   ],
   "source": [
    "# Verificar si hay valores NaN en X_train\n",
    "has_nan1 = np.isnan(X_train).any()\n",
    "\n",
    "# Imprimir el resultado\n",
    "if has_nan1:\n",
    "    print(\"X_train contiene valores NaN.\")\n",
    "else:\n",
    "    print(\"X_train no contiene valores NaN.\")"
   ]
  },
  {
   "cell_type": "code",
   "execution_count": 14,
   "metadata": {},
   "outputs": [
    {
     "name": "stdout",
     "output_type": "stream",
     "text": [
      "Número de valores NaN en X_train: 1757\n",
      "Posiciones de los valores NaN en X_train: (array([4949, 4950, 4951, ..., 6759, 6760, 6762]), array([0, 0, 0, ..., 0, 0, 0]))\n"
     ]
    }
   ],
   "source": [
    "# Verificar si hay valores NaN en X_train\n",
    "nan_mask = np.isnan(X_train)\n",
    "nan_count = np.sum(nan_mask)\n",
    "\n",
    "# Obtener las posiciones de los valores NaN\n",
    "nan_indices = np.where(nan_mask)\n",
    "\n",
    "# Imprimir el número de valores NaN y las posiciones\n",
    "print(\"Número de valores NaN en X_train:\", nan_count)\n",
    "print(\"Posiciones de los valores NaN en X_train:\", nan_indices)"
   ]
  },
  {
   "cell_type": "code",
   "execution_count": 15,
   "metadata": {},
   "outputs": [
    {
     "ename": "ValueError",
     "evalue": "The truth value of a Series is ambiguous. Use a.empty, a.bool(), a.item(), a.any() or a.all().",
     "output_type": "error",
     "traceback": [
      "\u001b[0;31m---------------------------------------------------------------------------\u001b[0m",
      "\u001b[0;31mValueError\u001b[0m                                Traceback (most recent call last)",
      "Cell \u001b[0;32mIn [15], line 4\u001b[0m\n\u001b[1;32m      1\u001b[0m has_nan \u001b[38;5;241m=\u001b[39m np\u001b[38;5;241m.\u001b[39misnan(y_train)\u001b[38;5;241m.\u001b[39many()\n\u001b[1;32m      3\u001b[0m \u001b[38;5;66;03m# Imprimir el resultado\u001b[39;00m\n\u001b[0;32m----> 4\u001b[0m \u001b[38;5;28;01mif\u001b[39;00m has_nan:\n\u001b[1;32m      5\u001b[0m     \u001b[38;5;28mprint\u001b[39m(\u001b[38;5;124m\"\u001b[39m\u001b[38;5;124mX_train contiene valores NaN.\u001b[39m\u001b[38;5;124m\"\u001b[39m)\n\u001b[1;32m      6\u001b[0m \u001b[38;5;28;01melse\u001b[39;00m:\n",
      "File \u001b[0;32m/usr/local/lib/python3.8/dist-packages/pandas/core/generic.py:1466\u001b[0m, in \u001b[0;36mNDFrame.__nonzero__\u001b[0;34m(self)\u001b[0m\n\u001b[1;32m   1464\u001b[0m \u001b[38;5;129m@final\u001b[39m\n\u001b[1;32m   1465\u001b[0m \u001b[38;5;28;01mdef\u001b[39;00m \u001b[38;5;21m__nonzero__\u001b[39m(\u001b[38;5;28mself\u001b[39m) \u001b[38;5;241m-\u001b[39m\u001b[38;5;241m>\u001b[39m NoReturn:\n\u001b[0;32m-> 1466\u001b[0m     \u001b[38;5;28;01mraise\u001b[39;00m \u001b[38;5;167;01mValueError\u001b[39;00m(\n\u001b[1;32m   1467\u001b[0m         \u001b[38;5;124mf\u001b[39m\u001b[38;5;124m\"\u001b[39m\u001b[38;5;124mThe truth value of a \u001b[39m\u001b[38;5;132;01m{\u001b[39;00m\u001b[38;5;28mtype\u001b[39m(\u001b[38;5;28mself\u001b[39m)\u001b[38;5;241m.\u001b[39m\u001b[38;5;18m__name__\u001b[39m\u001b[38;5;132;01m}\u001b[39;00m\u001b[38;5;124m is ambiguous. \u001b[39m\u001b[38;5;124m\"\u001b[39m\n\u001b[1;32m   1468\u001b[0m         \u001b[38;5;124m\"\u001b[39m\u001b[38;5;124mUse a.empty, a.bool(), a.item(), a.any() or a.all().\u001b[39m\u001b[38;5;124m\"\u001b[39m\n\u001b[1;32m   1469\u001b[0m     )\n",
      "\u001b[0;31mValueError\u001b[0m: The truth value of a Series is ambiguous. Use a.empty, a.bool(), a.item(), a.any() or a.all()."
     ]
    }
   ],
   "source": [
    "has_nan = np.isnan(y_train).any()\n",
    "\n",
    "# Imprimir el resultado\n",
    "if has_nan:\n",
    "    print(\"X_train contiene valores NaN.\")\n",
    "else:\n",
    "    print(\"X_train no contiene valores NaN.\")"
   ]
  },
  {
   "cell_type": "code",
   "execution_count": null,
   "metadata": {},
   "outputs": [],
   "source": [
    "def train_deep_net(activation_function, learning_rate, batch_size, num_epochs):\n",
    "\n",
    "    # Implementamos la red empleando Keras\n",
    "    model = Sequential()\n",
    "    model.add(Flatten())\n",
    "    model.add(Dense(200, activation=activation_function))\n",
    "    model.add(Dense(100, activation=activation_function))\n",
    "    model.add(Dense(60, activation=activation_function))\n",
    "    model.add(Dense(30, activation=activation_function))\n",
    "    model.add(Dense(1))  # Capa de salida sin función de activación para la regresión\n",
    "\n",
    "    # Compilamos y entrenamos el modelo Adam\n",
    "    print(\"[INFO]: Entrenando red neuronal...\")\n",
    "    opt = Adam(learning_rate=learning_rate)\n",
    "    model.compile(loss=\"mean_squared_error\", optimizer=opt, metrics=[\"mse\"])\n",
    "\n",
    "    # Definimos el callback para guardar el mejor modelo\n",
    "    checkpoint_filepath = 'best_model.h5'\n",
    "    checkpoint = ModelCheckpoint(checkpoint_filepath, monitor='val_loss', save_best_only=True, mode='min', verbose=1)\n",
    "   # Entrenando la solución con el callback para guardar el mejor modelo\n",
    "    history = model.fit(X_train, y_train, validation_data=(X_val, y_val), epochs=num_epochs, batch_size=batch_size, callbacks=[checkpoint])\n",
    "\n",
    "    # Evaluando el modelo de predicción con los datos de prueba\n",
    "    print(\"[INFO]: Evaluando red neuronal...\")\n",
    "    y_pred = model.predict(X_test)\n",
    "    mse = mean_squared_error(y_test, y_pred)\n",
    "    print(\"Mean Squared Error:\", mse)\n",
    "\n",
    "    # Mostrar gráfica de loss y métrica de entrenamiento y validación\n",
    "    plt.style.use(\"ggplot\")\n",
    "    plt.figure()\n",
    "    plt.plot(np.arange(0, num_epochs), history.history[\"loss\"], label=\"train_loss\")\n",
    "    plt.plot(np.arange(0, num_epochs), history.history[\"val_loss\"], label=\"val_loss\")\n",
    "    plt.plot(np.arange(0, num_epochs), history.history[\"mse\"], label=\"train_mse\")\n",
    "    plt.plot(np.arange(0, num_epochs), history.history[\"val_mse\"], label=\"val_mse\")\n",
    "    plt.title(\"Training Loss and Mean Squared Error\")\n",
    "    plt.xlabel(\"Epoch #\")\n",
    "    plt.ylabel(\"Loss/MSE\")\n",
    "    plt.legend()\n",
    "    plt.show()"
   ]
  },
  {
   "cell_type": "code",
   "execution_count": null,
   "metadata": {},
   "outputs": [],
   "source": [
    "# Define los hiperparámetros\n",
    "activation_function = tf.nn.relu\n",
    "learning_rate = 0.1\n",
    "num_epochs = 10\n",
    "batch_size = 128\n",
    "\n",
    "# Llama a la función de entrenamiento de la red neuronal\n",
    "train_deep_net(activation_function, learning_rate, batch_size, num_epochs)"
   ]
  },
  {
   "cell_type": "code",
   "execution_count": null,
   "metadata": {},
   "outputs": [],
   "source": []
  }
 ],
 "metadata": {
  "colab": {
   "provenance": []
  },
  "kernelspec": {
   "display_name": "Python 3",
   "language": "python",
   "name": "python3"
  },
  "language_info": {
   "codemirror_mode": {
    "name": "ipython",
    "version": 3
   },
   "file_extension": ".py",
   "mimetype": "text/x-python",
   "name": "python",
   "nbconvert_exporter": "python",
   "pygments_lexer": "ipython3",
   "version": "3.8.10"
  }
 },
 "nbformat": 4,
 "nbformat_minor": 1
}
