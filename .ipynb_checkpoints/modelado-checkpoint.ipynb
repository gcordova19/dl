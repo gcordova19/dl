{
 "cells": [
  {
   "cell_type": "markdown",
   "metadata": {
    "id": "KOdhx8z5YURF"
   },
   "source": [
    "## Modelado"
   ]
  },
  {
   "cell_type": "code",
   "execution_count": 1,
   "metadata": {
    "id": "9WYBx-YiYuRF"
   },
   "outputs": [
    {
     "ename": "ModuleNotFoundError",
     "evalue": "No module named 'imageio'",
     "output_type": "error",
     "traceback": [
      "\u001b[0;31m---------------------------------------------------------------------------\u001b[0m",
      "\u001b[0;31mModuleNotFoundError\u001b[0m                       Traceback (most recent call last)",
      "Cell \u001b[0;32mIn [1], line 4\u001b[0m\n\u001b[1;32m      2\u001b[0m \u001b[38;5;28;01mimport\u001b[39;00m \u001b[38;5;21;01mnumpy\u001b[39;00m\n\u001b[1;32m      3\u001b[0m \u001b[38;5;28;01mimport\u001b[39;00m \u001b[38;5;21;01mpandas\u001b[39;00m\n\u001b[0;32m----> 4\u001b[0m \u001b[38;5;28;01mimport\u001b[39;00m \u001b[38;5;21;01mimageio\u001b[39;00m\u001b[38;5;21;01m.\u001b[39;00m\u001b[38;5;21;01mv3\u001b[39;00m \u001b[38;5;28;01mas\u001b[39;00m \u001b[38;5;21;01mio\u001b[39;00m\n\u001b[1;32m      6\u001b[0m \u001b[38;5;28;01mfrom\u001b[39;00m \u001b[38;5;21;01mtqdm\u001b[39;00m \u001b[38;5;28;01mimport\u001b[39;00m tqdm\n\u001b[1;32m      7\u001b[0m \u001b[38;5;28;01mfrom\u001b[39;00m \u001b[38;5;21;01mtyping\u001b[39;00m \u001b[38;5;28;01mimport\u001b[39;00m Optional, Union\n",
      "\u001b[0;31mModuleNotFoundError\u001b[0m: No module named 'imageio'"
     ]
    }
   ],
   "source": [
    "import cv2\n",
    "import numpy\n",
    "import pandas\n",
    "import imageio.v3 as io\n",
    "\n",
    "from tqdm import tqdm\n",
    "from typing import Optional, Union\n",
    "from sklearn.model_selection import train_test_split\n",
    "from sklearn import preprocessing\n"
   ]
  },
  {
   "cell_type": "code",
   "execution_count": null,
   "metadata": {},
   "outputs": [],
   "source": []
  },
  {
   "cell_type": "markdown",
   "metadata": {},
   "source": [
    "# Train"
   ]
  },
  {
   "cell_type": "code",
   "execution_count": null,
   "metadata": {
    "id": "DJtOJZbuqLju"
   },
   "outputs": [],
   "source": [
    "# Comprobamos a abrirlos de nuevo \n",
    "saved_data_Train = pandas.read_csv(\"filtered_data_Train.csv\", sep=';')\n",
    "saved_imgs_Train = numpy.load(\"imageTrain.npy\")\n",
    "saved_data_Train.shape, saved_imgs_Train.shape"
   ]
  },
  {
   "cell_type": "code",
   "execution_count": null,
   "metadata": {
    "id": "gVKdIAnGFVJF"
   },
   "outputs": [],
   "source": [
    "y_train = saved_data_Train.iloc[:, 0:1]   # Seleccionamos la primera columna, price\n",
    "X_train = saved_data_Train.iloc[:, 1:-1]  # Seleccionamos todas las columnas excepto la primera y la última\n",
    "\n",
    "scaler = preprocessing.StandardScaler().fit(X_train)\n",
    "XtrainScaled = scaler.transform(X_train)\n",
    "\n",
    "X_train = XtrainScaled"
   ]
  },
  {
   "cell_type": "markdown",
   "metadata": {
    "id": "tJR81e6TbX_P"
   },
   "source": [
    "# Test"
   ]
  },
  {
   "cell_type": "code",
   "execution_count": null,
   "metadata": {
    "id": "_MM1VgItqwUk"
   },
   "outputs": [],
   "source": [
    "# Comprobamos a abrirlos de nuevo\n",
    "saved_data_Test = pandas.read_csv(\"filtered_data_Test.csv\", sep=';')\n",
    "saved_imgs_Test = numpy.load(\"imagesTest.npy\")\n",
    "saved_data_Test.shape, saved_imgs_Test.shape"
   ]
  },
  {
   "cell_type": "code",
   "execution_count": null,
   "metadata": {
    "id": "2THMBGK-kAjp"
   },
   "outputs": [],
   "source": [
    "y_test = saved_data_Test.iloc[:, 0:1]      # nos quedamos con la 1ª columna, price\n",
    "X_test = saved_data_Test.iloc[:,1:-1]      # nos quedamos con el resto\n",
    "\n",
    "\n",
    "# recordad que esta normalización/escalado la realizo con el scaler anterior, basado en los datos de training!\n",
    "XtestScaled = scaler.transform(X_test)\n",
    "X_test = XtestScaled"
   ]
  },
  {
   "cell_type": "markdown",
   "metadata": {
    "id": "-m43KXUJeCsP"
   },
   "source": [
    "# Validacion"
   ]
  },
  {
   "cell_type": "code",
   "execution_count": null,
   "metadata": {
    "id": "yLX1ByamphPV"
   },
   "outputs": [],
   "source": [
    "# Comprobamos a abrirlos de nuevo\n",
    "saved_data_Val = pandas.read_csv(\"filtered_data_Val.csv\", sep=';')\n",
    "saved_imgs_Val = numpy.load(\"imagesVal.npy\")\n",
    "saved_data_Val.shape, saved_imgs_Val.shape"
   ]
  },
  {
   "cell_type": "code",
   "execution_count": null,
   "metadata": {
    "id": "TttDEyYPlq93"
   },
   "outputs": [],
   "source": [
    "y_val = saved_data_Val.iloc[:,0:1]     # nos quedamos con la 1ª columna, price\n",
    "X_val = saved_data_Val.iloc[:,1:-1]      # nos quedamos con el resto\n",
    "\n",
    "\n",
    "# recordad que esta normalización/escalado la realizo con el scaler anterior, basado en los datos de training!\n",
    "XvalScaled = scaler.transform(X_val)\n",
    "\n",
    "X_test = XvalScaled"
   ]
  },
  {
   "cell_type": "markdown",
   "metadata": {
    "id": "mRDhGeMUuQdQ"
   },
   "source": [
    "Así, por ejemplo, cargamos y visualizamos la distribución de las etiquetas:"
   ]
  },
  {
   "cell_type": "code",
   "execution_count": null,
   "metadata": {
    "id": "ECahaJDVuUwS"
   },
   "outputs": [],
   "source": [
    "saved_data_Train['Price'].hist(bins=100)\n",
    "saved_data_Train.info()"
   ]
  },
  {
   "cell_type": "code",
   "execution_count": null,
   "metadata": {
    "id": "BvZ6gLXA2zsZ"
   },
   "outputs": [],
   "source": [
    "saved_data_Test['Price'].hist(bins=100)\n",
    "saved_data_Test.info()"
   ]
  },
  {
   "cell_type": "code",
   "execution_count": null,
   "metadata": {},
   "outputs": [],
   "source": [
    "saved_data_Val['Price'].hist(bins=100)\n",
    "saved_data_Val.info()"
   ]
  }
 ],
 "metadata": {
  "colab": {
   "provenance": []
  },
  "kernelspec": {
   "display_name": "Python 3",
   "language": "python",
   "name": "python3"
  },
  "language_info": {
   "codemirror_mode": {
    "name": "ipython",
    "version": 3
   },
   "file_extension": ".py",
   "mimetype": "text/x-python",
   "name": "python",
   "nbconvert_exporter": "python",
   "pygments_lexer": "ipython3",
   "version": "3.8.10"
  }
 },
 "nbformat": 4,
 "nbformat_minor": 1
}
