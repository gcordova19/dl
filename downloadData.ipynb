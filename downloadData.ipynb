{
 "cells": [
  {
   "cell_type": "markdown",
   "metadata": {
    "id": "KOdhx8z5YURF"
   },
   "source": [
    "## Descarga y formatting del CSV de los datos"
   ]
  },
  {
   "cell_type": "code",
   "execution_count": 1,
   "metadata": {
    "colab": {
     "base_uri": "https://localhost:8080/"
    },
    "id": "Z2cT2Zz0Ya0y",
    "outputId": "02fc7a21-387a-4b45-dca7-a4d4f07c33d9"
   },
   "outputs": [
    {
     "name": "stdout",
     "output_type": "stream",
     "text": [
      "--2023-07-16 15:16:48--  https://public.opendatasoft.com/explore/dataset/airbnb-listings/download/?format=csv&disjunctive.host_verifications=true&disjunctive.amenities=true&disjunctive.features=true&refine.country=Spain&q=Madrid&timezone=Europe/London&use_labels_for_header=true&csv_separator=%3B\n",
      "Resolving public.opendatasoft.com (public.opendatasoft.com)... 34.248.20.69, 34.249.199.226\n",
      "Connecting to public.opendatasoft.com (public.opendatasoft.com)|34.248.20.69|:443... connected.\n",
      "HTTP request sent, awaiting response... 200 OK\n",
      "Length: unspecified [application/csv]\n",
      "Saving to: ‘airbnb-listings.csv’\n",
      "\n",
      "airbnb-listings.csv     [        <=>         ]  54.31M  2.96MB/s    in 18s     \n",
      "\n",
      "2023-07-16 15:17:07 (3.00 MB/s) - ‘airbnb-listings.csv’ saved [56950929]\n",
      "\n"
     ]
    }
   ],
   "source": [
    "!wget -O \"airbnb-listings.csv\" \"https://public.opendatasoft.com/explore/dataset/airbnb-listings/download/?format=csv&disjunctive.host_verifications=true&disjunctive.amenities=true&disjunctive.features=true&refine.country=Spain&q=Madrid&timezone=Europe/London&use_labels_for_header=true&csv_separator=%3B\""
   ]
  },
  {
   "cell_type": "code",
   "execution_count": 2,
   "metadata": {
    "id": "9WYBx-YiYuRF"
   },
   "outputs": [],
   "source": [
    "import cv2\n",
    "import numpy\n",
    "import pandas\n",
    "import imageio.v3 as io\n",
    "\n",
    "from tqdm import tqdm\n",
    "from typing import Optional, Union\n",
    "from sklearn.model_selection import train_test_split\n",
    "from sklearn import preprocessing\n"
   ]
  },
  {
   "cell_type": "code",
   "execution_count": 3,
   "metadata": {
    "colab": {
     "base_uri": "https://localhost:8080/"
    },
    "id": "jkd5AKJ0Y3vl",
    "outputId": "d8a8577e-2f39-4f61-cf99-108791127d59"
   },
   "outputs": [
    {
     "name": "stdout",
     "output_type": "stream",
     "text": [
      "Dimensiones del dataset de entrenamiento: (11200, 89)\n",
      "Dimensiones del dataset de prueba: (1400, 89)\n",
      "Dimensiones del dataset de validación: (1401, 89)\n"
     ]
    }
   ],
   "source": [
    "full_df = pandas.read_csv(\"airbnb-listings.csv\", sep = ';')\n",
    "\n",
    "\n",
    "# División en train y test\n",
    "train, test = train_test_split(full_df, test_size=0.2, shuffle=True, random_state=0)\n",
    "\n",
    "# División del conjunto de prueba en test y validation\n",
    "test, validation = train_test_split(test, test_size=0.5, shuffle=True, random_state=0)\n",
    "\n",
    "print(f'Dimensiones del dataset de entrenamiento: {train.shape}')\n",
    "print(f'Dimensiones del dataset de prueba: {test.shape}')\n",
    "print(f'Dimensiones del dataset de validación: {validation.shape}')\n",
    "\n",
    "# Guardar los conjuntos de datos\n",
    "train.to_csv('train.csv', sep=';', decimal='.', index=False)\n",
    "test.to_csv('test.csv', sep=';', decimal='.', index=False)\n",
    "validation.to_csv('validation.csv', sep=';', decimal='.', index=False)\n"
   ]
  },
  {
   "cell_type": "code",
   "execution_count": 4,
   "metadata": {
    "colab": {
     "base_uri": "https://localhost:8080/"
    },
    "id": "0EzXo5CBESow",
    "outputId": "a86eae78-9d32-4fb9-d78a-0e2fcfc12396"
   },
   "outputs": [
    {
     "name": "stderr",
     "output_type": "stream",
     "text": [
      "<ipython-input-4-b8dd39065073>:1: DtypeWarning: Columns (40) have mixed types. Specify dtype option on import or set low_memory=False.\n",
      "  data = pandas.read_csv('train.csv', sep=';', decimal='.')\n"
     ]
    }
   ],
   "source": [
    "data = pandas.read_csv('train.csv', sep=';', decimal='.')"
   ]
  },
  {
   "cell_type": "markdown",
   "metadata": {
    "id": "xIvAfGr06NjZ"
   },
   "source": [
    "Eliminacion de filas que no tengan precios, nos ayuda a reducir el numero de imagnes a descargar"
   ]
  },
  {
   "cell_type": "code",
   "execution_count": 5,
   "metadata": {
    "colab": {
     "base_uri": "https://localhost:8080/"
    },
    "id": "mYVeOeXp6Htx",
    "outputId": "47f2159f-13a3-49c1-db73-e64cd4364cca"
   },
   "outputs": [
    {
     "name": "stdout",
     "output_type": "stream",
     "text": [
      "<class 'pandas.core.frame.DataFrame'>\n",
      "Index: 11189 entries, 0 to 11199\n",
      "Data columns (total 89 columns):\n",
      " #   Column                          Non-Null Count  Dtype  \n",
      "---  ------                          --------------  -----  \n",
      " 0   ID                              11189 non-null  int64  \n",
      " 1   Listing Url                     11189 non-null  object \n",
      " 2   Scrape ID                       11189 non-null  int64  \n",
      " 3   Last Scraped                    11189 non-null  object \n",
      " 4   Name                            11189 non-null  object \n",
      " 5   Summary                         10741 non-null  object \n",
      " 6   Space                           8239 non-null   object \n",
      " 7   Description                     11184 non-null  object \n",
      " 8   Experiences Offered             11189 non-null  object \n",
      " 9   Neighborhood Overview           6909 non-null   object \n",
      " 10  Notes                           4221 non-null   object \n",
      " 11  Transit                         6859 non-null   object \n",
      " 12  Access                          6289 non-null   object \n",
      " 13  Interaction                     6247 non-null   object \n",
      " 14  House Rules                     7328 non-null   object \n",
      " 15  Thumbnail Url                   9050 non-null   object \n",
      " 16  Medium Url                      9050 non-null   object \n",
      " 17  Picture Url                     11170 non-null  object \n",
      " 18  XL Picture Url                  9050 non-null   object \n",
      " 19  Host ID                         11189 non-null  int64  \n",
      " 20  Host URL                        11189 non-null  object \n",
      " 21  Host Name                       11186 non-null  object \n",
      " 22  Host Since                      11186 non-null  object \n",
      " 23  Host Location                   11156 non-null  object \n",
      " 24  Host About                      7138 non-null   object \n",
      " 25  Host Response Time              9800 non-null   object \n",
      " 26  Host Response Rate              9800 non-null   float64\n",
      " 27  Host Acceptance Rate            0 non-null      float64\n",
      " 28  Host Thumbnail Url              11186 non-null  object \n",
      " 29  Host Picture Url                11186 non-null  object \n",
      " 30  Host Neighbourhood              8255 non-null   object \n",
      " 31  Host Listings Count             11186 non-null  float64\n",
      " 32  Host Total Listings Count       11186 non-null  float64\n",
      " 33  Host Verifications              11182 non-null  object \n",
      " 34  Street                          11189 non-null  object \n",
      " 35  Neighbourhood                   7220 non-null   object \n",
      " 36  Neighbourhood Cleansed          11189 non-null  object \n",
      " 37  Neighbourhood Group Cleansed    10882 non-null  object \n",
      " 38  City                            11185 non-null  object \n",
      " 39  State                           11150 non-null  object \n",
      " 40  Zipcode                         10827 non-null  object \n",
      " 41  Market                          11150 non-null  object \n",
      " 42  Smart Location                  11189 non-null  object \n",
      " 43  Country Code                    11189 non-null  object \n",
      " 44  Country                         11189 non-null  object \n",
      " 45  Latitude                        11189 non-null  float64\n",
      " 46  Longitude                       11189 non-null  float64\n",
      " 47  Property Type                   11189 non-null  object \n",
      " 48  Room Type                       11189 non-null  object \n",
      " 49  Accommodates                    11189 non-null  int64  \n",
      " 50  Bathrooms                       11149 non-null  float64\n",
      " 51  Bedrooms                        11172 non-null  float64\n",
      " 52  Beds                            11155 non-null  float64\n",
      " 53  Bed Type                        11189 non-null  object \n",
      " 54  Amenities                       11070 non-null  object \n",
      " 55  Square Feet                     463 non-null    float64\n",
      " 56  Price                           11189 non-null  float64\n",
      " 57  Weekly Price                    2725 non-null   float64\n",
      " 58  Monthly Price                   2712 non-null   float64\n",
      " 59  Security Deposit                4799 non-null   float64\n",
      " 60  Cleaning Fee                    6518 non-null   float64\n",
      " 61  Guests Included                 11189 non-null  int64  \n",
      " 62  Extra People                    11189 non-null  int64  \n",
      " 63  Minimum Nights                  11189 non-null  int64  \n",
      " 64  Maximum Nights                  11189 non-null  int64  \n",
      " 65  Calendar Updated                11189 non-null  object \n",
      " 66  Has Availability                0 non-null      float64\n",
      " 67  Availability 30                 11189 non-null  int64  \n",
      " 68  Availability 60                 11189 non-null  int64  \n",
      " 69  Availability 90                 11189 non-null  int64  \n",
      " 70  Availability 365                11189 non-null  int64  \n",
      " 71  Calendar last Scraped           11189 non-null  object \n",
      " 72  Number of Reviews               11189 non-null  int64  \n",
      " 73  First Review                    8808 non-null   object \n",
      " 74  Last Review                     8807 non-null   object \n",
      " 75  Review Scores Rating            8708 non-null   float64\n",
      " 76  Review Scores Accuracy          8691 non-null   float64\n",
      " 77  Review Scores Cleanliness       8696 non-null   float64\n",
      " 78  Review Scores Checkin           8683 non-null   float64\n",
      " 79  Review Scores Communication     8697 non-null   float64\n",
      " 80  Review Scores Location          8682 non-null   float64\n",
      " 81  Review Scores Value             8680 non-null   float64\n",
      " 82  License                         273 non-null    object \n",
      " 83  Jurisdiction Names              0 non-null      float64\n",
      " 84  Cancellation Policy             11189 non-null  object \n",
      " 85  Calculated host listings count  11189 non-null  int64  \n",
      " 86  Reviews per Month               8808 non-null   float64\n",
      " 87  Geolocation                     11189 non-null  object \n",
      " 88  Features                        11189 non-null  object \n",
      "dtypes: float64(25), int64(14), object(50)\n",
      "memory usage: 7.7+ MB\n"
     ]
    }
   ],
   "source": [
    "data = data.dropna(subset=['Price'])\n",
    "data.info()"
   ]
  },
  {
   "cell_type": "code",
   "execution_count": 6,
   "metadata": {
    "id": "z7ILPgBC5cJt"
   },
   "outputs": [],
   "source": [
    "# Extraer la columna \"Precio\"\n",
    "price_column = data['Price']\n",
    "\n",
    "# Eliminar la columna \"Precio\" del DataFrame\n",
    "data.drop('Price', axis=1, inplace=True)\n",
    "\n",
    "# Insertar la columna \"Price\" en la primera posición del DataFrame\n",
    "data.insert(0, 'Price', price_column)"
   ]
  },
  {
   "cell_type": "markdown",
   "metadata": {
    "id": "9bRMo9bo52xh"
   },
   "source": [
    "En la columnas como City hay NaN, evaluacion si es un numero pequeno en comparacion con todo el detaset. Si es pequeno se elimina la fila."
   ]
  },
  {
   "cell_type": "code",
   "execution_count": 7,
   "metadata": {
    "colab": {
     "base_uri": "https://localhost:8080/",
     "height": 1000
    },
    "id": "1VVtB3xc50FT",
    "outputId": "0ce31ba4-ed73-4886-e718-22a44e31231d"
   },
   "outputs": [
    {
     "name": "stdout",
     "output_type": "stream",
     "text": [
      "Cantidad de valores NaN en la columna 'City': 4\n"
     ]
    },
    {
     "data": {
      "text/html": [
       "<div>\n",
       "<style scoped>\n",
       "    .dataframe tbody tr th:only-of-type {\n",
       "        vertical-align: middle;\n",
       "    }\n",
       "\n",
       "    .dataframe tbody tr th {\n",
       "        vertical-align: top;\n",
       "    }\n",
       "\n",
       "    .dataframe thead th {\n",
       "        text-align: right;\n",
       "    }\n",
       "</style>\n",
       "<table border=\"1\" class=\"dataframe\">\n",
       "  <thead>\n",
       "    <tr style=\"text-align: right;\">\n",
       "      <th></th>\n",
       "      <th>Price</th>\n",
       "      <th>ID</th>\n",
       "      <th>Listing Url</th>\n",
       "      <th>Scrape ID</th>\n",
       "      <th>Last Scraped</th>\n",
       "      <th>Name</th>\n",
       "      <th>Summary</th>\n",
       "      <th>Space</th>\n",
       "      <th>Description</th>\n",
       "      <th>Experiences Offered</th>\n",
       "      <th>...</th>\n",
       "      <th>Review Scores Communication</th>\n",
       "      <th>Review Scores Location</th>\n",
       "      <th>Review Scores Value</th>\n",
       "      <th>License</th>\n",
       "      <th>Jurisdiction Names</th>\n",
       "      <th>Cancellation Policy</th>\n",
       "      <th>Calculated host listings count</th>\n",
       "      <th>Reviews per Month</th>\n",
       "      <th>Geolocation</th>\n",
       "      <th>Features</th>\n",
       "    </tr>\n",
       "  </thead>\n",
       "  <tbody>\n",
       "    <tr>\n",
       "      <th>0</th>\n",
       "      <td>22.0</td>\n",
       "      <td>16122949</td>\n",
       "      <td>https://www.airbnb.com/rooms/16122949</td>\n",
       "      <td>20170407214119</td>\n",
       "      <td>2017-04-08</td>\n",
       "      <td>2£~Casa cueva &amp; Walk  My own 2 beds, no bunk-b...</td>\n",
       "      <td>VIVE   MADRIZ. Cama y wifi en Bunker -Habitaci...</td>\n",
       "      <td>Camas individuales en apartamento compartido d...</td>\n",
       "      <td>VIVE   MADRIZ. Cama y wifi en Bunker -Habitaci...</td>\n",
       "      <td>none</td>\n",
       "      <td>...</td>\n",
       "      <td>9.0</td>\n",
       "      <td>10.0</td>\n",
       "      <td>9.0</td>\n",
       "      <td>NaN</td>\n",
       "      <td>NaN</td>\n",
       "      <td>strict</td>\n",
       "      <td>4</td>\n",
       "      <td>5.04</td>\n",
       "      <td>40.409548642506394,-3.701254969137256</td>\n",
       "      <td>Host Is Superhost,Host Has Profile Pic,Is Loca...</td>\n",
       "    </tr>\n",
       "    <tr>\n",
       "      <th>1</th>\n",
       "      <td>40.0</td>\n",
       "      <td>15047803</td>\n",
       "      <td>https://www.airbnb.com/rooms/15047803</td>\n",
       "      <td>20170407214119</td>\n",
       "      <td>2017-04-08</td>\n",
       "      <td>Confortable Loft in Olavide (Downtown)</td>\n",
       "      <td>Simple and confortable Loft to stay in Madrid ...</td>\n",
       "      <td>This loft is up to cuples or singles who don't...</td>\n",
       "      <td>Simple and confortable Loft to stay in Madrid ...</td>\n",
       "      <td>none</td>\n",
       "      <td>...</td>\n",
       "      <td>10.0</td>\n",
       "      <td>10.0</td>\n",
       "      <td>9.0</td>\n",
       "      <td>NaN</td>\n",
       "      <td>NaN</td>\n",
       "      <td>moderate</td>\n",
       "      <td>3</td>\n",
       "      <td>4.84</td>\n",
       "      <td>40.43395499885526,-3.700104536563879</td>\n",
       "      <td>Host Has Profile Pic,Host Identity Verified,Re...</td>\n",
       "    </tr>\n",
       "    <tr>\n",
       "      <th>2</th>\n",
       "      <td>32.0</td>\n",
       "      <td>7495485</td>\n",
       "      <td>https://www.airbnb.com/rooms/7495485</td>\n",
       "      <td>20170407214119</td>\n",
       "      <td>2017-04-08</td>\n",
       "      <td>Habitacion para Vegetarianos 2</td>\n",
       "      <td>Habitacion en el centro de Madrid. Cerca de Mu...</td>\n",
       "      <td>Simpática y silenciosa habitación, en edificio...</td>\n",
       "      <td>Habitacion en el centro de Madrid. Cerca de Mu...</td>\n",
       "      <td>none</td>\n",
       "      <td>...</td>\n",
       "      <td>10.0</td>\n",
       "      <td>10.0</td>\n",
       "      <td>9.0</td>\n",
       "      <td>NaN</td>\n",
       "      <td>NaN</td>\n",
       "      <td>flexible</td>\n",
       "      <td>3</td>\n",
       "      <td>4.24</td>\n",
       "      <td>40.41641817294734,-3.696901743131365</td>\n",
       "      <td>Host Has Profile Pic,Host Identity Verified,Re...</td>\n",
       "    </tr>\n",
       "    <tr>\n",
       "      <th>3</th>\n",
       "      <td>102.0</td>\n",
       "      <td>76617</td>\n",
       "      <td>https://www.airbnb.com/rooms/76617</td>\n",
       "      <td>20170407214119</td>\n",
       "      <td>2017-04-08</td>\n",
       "      <td>Plaza Comendadoras Lux</td>\n",
       "      <td>NaN</td>\n",
       "      <td>Plaza Comendadoras Lux Apartment: This comfort...</td>\n",
       "      <td>Plaza Comendadoras Lux Apartment: This comfort...</td>\n",
       "      <td>none</td>\n",
       "      <td>...</td>\n",
       "      <td>9.0</td>\n",
       "      <td>9.0</td>\n",
       "      <td>8.0</td>\n",
       "      <td>NaN</td>\n",
       "      <td>NaN</td>\n",
       "      <td>strict</td>\n",
       "      <td>11</td>\n",
       "      <td>0.24</td>\n",
       "      <td>40.42791316481744,-3.7099928761218366</td>\n",
       "      <td>Host Has Profile Pic,Host Identity Verified,Re...</td>\n",
       "    </tr>\n",
       "    <tr>\n",
       "      <th>4</th>\n",
       "      <td>16.0</td>\n",
       "      <td>13469305</td>\n",
       "      <td>https://www.airbnb.com/rooms/13469305</td>\n",
       "      <td>20170407214119</td>\n",
       "      <td>2017-04-08</td>\n",
       "      <td>Les-friendly room close to city centre</td>\n",
       "      <td>We are three friends and a cat living in this ...</td>\n",
       "      <td>NaN</td>\n",
       "      <td>We are three friends and a cat living in this ...</td>\n",
       "      <td>none</td>\n",
       "      <td>...</td>\n",
       "      <td>10.0</td>\n",
       "      <td>10.0</td>\n",
       "      <td>10.0</td>\n",
       "      <td>NaN</td>\n",
       "      <td>NaN</td>\n",
       "      <td>flexible</td>\n",
       "      <td>1</td>\n",
       "      <td>1.34</td>\n",
       "      <td>40.40237008242663,-3.696722555307174</td>\n",
       "      <td>Host Is Superhost,Host Has Profile Pic,Require...</td>\n",
       "    </tr>\n",
       "    <tr>\n",
       "      <th>...</th>\n",
       "      <td>...</td>\n",
       "      <td>...</td>\n",
       "      <td>...</td>\n",
       "      <td>...</td>\n",
       "      <td>...</td>\n",
       "      <td>...</td>\n",
       "      <td>...</td>\n",
       "      <td>...</td>\n",
       "      <td>...</td>\n",
       "      <td>...</td>\n",
       "      <td>...</td>\n",
       "      <td>...</td>\n",
       "      <td>...</td>\n",
       "      <td>...</td>\n",
       "      <td>...</td>\n",
       "      <td>...</td>\n",
       "      <td>...</td>\n",
       "      <td>...</td>\n",
       "      <td>...</td>\n",
       "      <td>...</td>\n",
       "      <td>...</td>\n",
       "    </tr>\n",
       "    <tr>\n",
       "      <th>11195</th>\n",
       "      <td>19.0</td>\n",
       "      <td>5508219</td>\n",
       "      <td>https://www.airbnb.com/rooms/5508219</td>\n",
       "      <td>20170407214119</td>\n",
       "      <td>2017-04-08</td>\n",
       "      <td>Room 10 min by foot from Madrid Río</td>\n",
       "      <td>Private room, with a lot of light in a complet...</td>\n",
       "      <td>A quiet place, where you can hear birds tweeti...</td>\n",
       "      <td>Private room, with a lot of light in a complet...</td>\n",
       "      <td>none</td>\n",
       "      <td>...</td>\n",
       "      <td>10.0</td>\n",
       "      <td>9.0</td>\n",
       "      <td>10.0</td>\n",
       "      <td>NaN</td>\n",
       "      <td>NaN</td>\n",
       "      <td>flexible</td>\n",
       "      <td>1</td>\n",
       "      <td>0.17</td>\n",
       "      <td>40.393040051990575,-3.719456686081845</td>\n",
       "      <td>Host Has Profile Pic,Host Identity Verified,Is...</td>\n",
       "    </tr>\n",
       "    <tr>\n",
       "      <th>11196</th>\n",
       "      <td>59.0</td>\n",
       "      <td>12450824</td>\n",
       "      <td>https://www.airbnb.com/rooms/12450824</td>\n",
       "      <td>20170407214119</td>\n",
       "      <td>2017-04-08</td>\n",
       "      <td>CHARMING APARTMENT (LA LATINA)</td>\n",
       "      <td>The apartment is located in one of the most po...</td>\n",
       "      <td>The apartment , with an elegant design , is lo...</td>\n",
       "      <td>The apartment is located in one of the most po...</td>\n",
       "      <td>none</td>\n",
       "      <td>...</td>\n",
       "      <td>10.0</td>\n",
       "      <td>10.0</td>\n",
       "      <td>10.0</td>\n",
       "      <td>NaN</td>\n",
       "      <td>NaN</td>\n",
       "      <td>moderate</td>\n",
       "      <td>1</td>\n",
       "      <td>6.24</td>\n",
       "      <td>40.409402726502485,-3.7074466909890362</td>\n",
       "      <td>Host Is Superhost,Host Has Profile Pic,Is Loca...</td>\n",
       "    </tr>\n",
       "    <tr>\n",
       "      <th>11197</th>\n",
       "      <td>175.0</td>\n",
       "      <td>2328467</td>\n",
       "      <td>https://www.airbnb.com/rooms/2328467</td>\n",
       "      <td>20170315084710</td>\n",
       "      <td>2017-03-15</td>\n",
       "      <td>R.116 Nice country house with pool in Pollensa</td>\n",
       "      <td>Country house in the outskirts of Pollensa in ...</td>\n",
       "      <td>Country house in the outskirts of Pollença in ...</td>\n",
       "      <td>Country house in the outskirts of Pollensa in ...</td>\n",
       "      <td>none</td>\n",
       "      <td>...</td>\n",
       "      <td>10.0</td>\n",
       "      <td>10.0</td>\n",
       "      <td>8.0</td>\n",
       "      <td>NaN</td>\n",
       "      <td>NaN</td>\n",
       "      <td>strict</td>\n",
       "      <td>129</td>\n",
       "      <td>0.11</td>\n",
       "      <td>39.896735915204076,3.027845665676873</td>\n",
       "      <td>Host Has Profile Pic,Host Identity Verified,Is...</td>\n",
       "    </tr>\n",
       "    <tr>\n",
       "      <th>11198</th>\n",
       "      <td>35.0</td>\n",
       "      <td>18047501</td>\n",
       "      <td>https://www.airbnb.com/rooms/18047501</td>\n",
       "      <td>20170407214119</td>\n",
       "      <td>2017-04-08</td>\n",
       "      <td>Fuencarral-Centre Room</td>\n",
       "      <td>Habitación interior privada con baño, con vent...</td>\n",
       "      <td>NaN</td>\n",
       "      <td>Habitación interior privada con baño, con vent...</td>\n",
       "      <td>none</td>\n",
       "      <td>...</td>\n",
       "      <td>NaN</td>\n",
       "      <td>NaN</td>\n",
       "      <td>NaN</td>\n",
       "      <td>NaN</td>\n",
       "      <td>NaN</td>\n",
       "      <td>flexible</td>\n",
       "      <td>1</td>\n",
       "      <td>NaN</td>\n",
       "      <td>40.42276333420992,-3.7005781629888395</td>\n",
       "      <td>Requires License,Instant Bookable</td>\n",
       "    </tr>\n",
       "    <tr>\n",
       "      <th>11199</th>\n",
       "      <td>59.0</td>\n",
       "      <td>6696008</td>\n",
       "      <td>https://www.airbnb.com/rooms/6696008</td>\n",
       "      <td>20170407214119</td>\n",
       "      <td>2017-04-08</td>\n",
       "      <td>Charming Cosy Flat Center of Madrid</td>\n",
       "      <td>A fully renovated and carefully decorated spec...</td>\n",
       "      <td>The flat has been converted recently from a 2-...</td>\n",
       "      <td>A fully renovated and carefully decorated spec...</td>\n",
       "      <td>none</td>\n",
       "      <td>...</td>\n",
       "      <td>10.0</td>\n",
       "      <td>9.0</td>\n",
       "      <td>10.0</td>\n",
       "      <td>NaN</td>\n",
       "      <td>NaN</td>\n",
       "      <td>strict</td>\n",
       "      <td>3</td>\n",
       "      <td>0.63</td>\n",
       "      <td>40.41014762740262,-3.717025630445302</td>\n",
       "      <td>Host Has Profile Pic,Host Identity Verified,Is...</td>\n",
       "    </tr>\n",
       "  </tbody>\n",
       "</table>\n",
       "<p>11185 rows × 89 columns</p>\n",
       "</div>"
      ],
      "text/plain": [
       "       Price        ID                            Listing Url       Scrape ID  \\\n",
       "0       22.0  16122949  https://www.airbnb.com/rooms/16122949  20170407214119   \n",
       "1       40.0  15047803  https://www.airbnb.com/rooms/15047803  20170407214119   \n",
       "2       32.0   7495485   https://www.airbnb.com/rooms/7495485  20170407214119   \n",
       "3      102.0     76617     https://www.airbnb.com/rooms/76617  20170407214119   \n",
       "4       16.0  13469305  https://www.airbnb.com/rooms/13469305  20170407214119   \n",
       "...      ...       ...                                    ...             ...   \n",
       "11195   19.0   5508219   https://www.airbnb.com/rooms/5508219  20170407214119   \n",
       "11196   59.0  12450824  https://www.airbnb.com/rooms/12450824  20170407214119   \n",
       "11197  175.0   2328467   https://www.airbnb.com/rooms/2328467  20170315084710   \n",
       "11198   35.0  18047501  https://www.airbnb.com/rooms/18047501  20170407214119   \n",
       "11199   59.0   6696008   https://www.airbnb.com/rooms/6696008  20170407214119   \n",
       "\n",
       "      Last Scraped                                               Name  \\\n",
       "0       2017-04-08  2£~Casa cueva & Walk  My own 2 beds, no bunk-b...   \n",
       "1       2017-04-08             Confortable Loft in Olavide (Downtown)   \n",
       "2       2017-04-08                     Habitacion para Vegetarianos 2   \n",
       "3       2017-04-08                             Plaza Comendadoras Lux   \n",
       "4       2017-04-08             Les-friendly room close to city centre   \n",
       "...            ...                                                ...   \n",
       "11195   2017-04-08                Room 10 min by foot from Madrid Río   \n",
       "11196   2017-04-08                     CHARMING APARTMENT (LA LATINA)   \n",
       "11197   2017-03-15     R.116 Nice country house with pool in Pollensa   \n",
       "11198   2017-04-08                             Fuencarral-Centre Room   \n",
       "11199   2017-04-08                Charming Cosy Flat Center of Madrid   \n",
       "\n",
       "                                                 Summary  \\\n",
       "0      VIVE   MADRIZ. Cama y wifi en Bunker -Habitaci...   \n",
       "1      Simple and confortable Loft to stay in Madrid ...   \n",
       "2      Habitacion en el centro de Madrid. Cerca de Mu...   \n",
       "3                                                    NaN   \n",
       "4      We are three friends and a cat living in this ...   \n",
       "...                                                  ...   \n",
       "11195  Private room, with a lot of light in a complet...   \n",
       "11196  The apartment is located in one of the most po...   \n",
       "11197  Country house in the outskirts of Pollensa in ...   \n",
       "11198  Habitación interior privada con baño, con vent...   \n",
       "11199  A fully renovated and carefully decorated spec...   \n",
       "\n",
       "                                                   Space  \\\n",
       "0      Camas individuales en apartamento compartido d...   \n",
       "1      This loft is up to cuples or singles who don't...   \n",
       "2      Simpática y silenciosa habitación, en edificio...   \n",
       "3      Plaza Comendadoras Lux Apartment: This comfort...   \n",
       "4                                                    NaN   \n",
       "...                                                  ...   \n",
       "11195  A quiet place, where you can hear birds tweeti...   \n",
       "11196  The apartment , with an elegant design , is lo...   \n",
       "11197  Country house in the outskirts of Pollença in ...   \n",
       "11198                                                NaN   \n",
       "11199  The flat has been converted recently from a 2-...   \n",
       "\n",
       "                                             Description Experiences Offered  \\\n",
       "0      VIVE   MADRIZ. Cama y wifi en Bunker -Habitaci...                none   \n",
       "1      Simple and confortable Loft to stay in Madrid ...                none   \n",
       "2      Habitacion en el centro de Madrid. Cerca de Mu...                none   \n",
       "3      Plaza Comendadoras Lux Apartment: This comfort...                none   \n",
       "4      We are three friends and a cat living in this ...                none   \n",
       "...                                                  ...                 ...   \n",
       "11195  Private room, with a lot of light in a complet...                none   \n",
       "11196  The apartment is located in one of the most po...                none   \n",
       "11197  Country house in the outskirts of Pollensa in ...                none   \n",
       "11198  Habitación interior privada con baño, con vent...                none   \n",
       "11199  A fully renovated and carefully decorated spec...                none   \n",
       "\n",
       "       ... Review Scores Communication Review Scores Location  \\\n",
       "0      ...                         9.0                   10.0   \n",
       "1      ...                        10.0                   10.0   \n",
       "2      ...                        10.0                   10.0   \n",
       "3      ...                         9.0                    9.0   \n",
       "4      ...                        10.0                   10.0   \n",
       "...    ...                         ...                    ...   \n",
       "11195  ...                        10.0                    9.0   \n",
       "11196  ...                        10.0                   10.0   \n",
       "11197  ...                        10.0                   10.0   \n",
       "11198  ...                         NaN                    NaN   \n",
       "11199  ...                        10.0                    9.0   \n",
       "\n",
       "      Review Scores Value License Jurisdiction Names Cancellation Policy  \\\n",
       "0                     9.0     NaN                NaN              strict   \n",
       "1                     9.0     NaN                NaN            moderate   \n",
       "2                     9.0     NaN                NaN            flexible   \n",
       "3                     8.0     NaN                NaN              strict   \n",
       "4                    10.0     NaN                NaN            flexible   \n",
       "...                   ...     ...                ...                 ...   \n",
       "11195                10.0     NaN                NaN            flexible   \n",
       "11196                10.0     NaN                NaN            moderate   \n",
       "11197                 8.0     NaN                NaN              strict   \n",
       "11198                 NaN     NaN                NaN            flexible   \n",
       "11199                10.0     NaN                NaN              strict   \n",
       "\n",
       "      Calculated host listings count Reviews per Month  \\\n",
       "0                                  4              5.04   \n",
       "1                                  3              4.84   \n",
       "2                                  3              4.24   \n",
       "3                                 11              0.24   \n",
       "4                                  1              1.34   \n",
       "...                              ...               ...   \n",
       "11195                              1              0.17   \n",
       "11196                              1              6.24   \n",
       "11197                            129              0.11   \n",
       "11198                              1               NaN   \n",
       "11199                              3              0.63   \n",
       "\n",
       "                                  Geolocation  \\\n",
       "0       40.409548642506394,-3.701254969137256   \n",
       "1        40.43395499885526,-3.700104536563879   \n",
       "2        40.41641817294734,-3.696901743131365   \n",
       "3       40.42791316481744,-3.7099928761218366   \n",
       "4        40.40237008242663,-3.696722555307174   \n",
       "...                                       ...   \n",
       "11195   40.393040051990575,-3.719456686081845   \n",
       "11196  40.409402726502485,-3.7074466909890362   \n",
       "11197    39.896735915204076,3.027845665676873   \n",
       "11198   40.42276333420992,-3.7005781629888395   \n",
       "11199    40.41014762740262,-3.717025630445302   \n",
       "\n",
       "                                                Features  \n",
       "0      Host Is Superhost,Host Has Profile Pic,Is Loca...  \n",
       "1      Host Has Profile Pic,Host Identity Verified,Re...  \n",
       "2      Host Has Profile Pic,Host Identity Verified,Re...  \n",
       "3      Host Has Profile Pic,Host Identity Verified,Re...  \n",
       "4      Host Is Superhost,Host Has Profile Pic,Require...  \n",
       "...                                                  ...  \n",
       "11195  Host Has Profile Pic,Host Identity Verified,Is...  \n",
       "11196  Host Is Superhost,Host Has Profile Pic,Is Loca...  \n",
       "11197  Host Has Profile Pic,Host Identity Verified,Is...  \n",
       "11198                  Requires License,Instant Bookable  \n",
       "11199  Host Has Profile Pic,Host Identity Verified,Is...  \n",
       "\n",
       "[11185 rows x 89 columns]"
      ]
     },
     "execution_count": 7,
     "metadata": {},
     "output_type": "execute_result"
    }
   ],
   "source": [
    "valores_unicos = data[\"City\"].unique()\n",
    "nan_count = data[\"City\"].isna().sum()\n",
    "# Imprime el conteo de valores NaN en la columna \"City\"\n",
    "print(\"Cantidad de valores NaN en la columna 'City':\", nan_count)\n",
    "# Elimina las filas que contienen NaN en la columna \"City\"\n",
    "data = data.dropna(subset=[\"City\"])\n",
    "# Imprime el DataFrame sin las filas con NaN en \"City\"\n",
    "data"
   ]
  },
  {
   "cell_type": "markdown",
   "metadata": {
    "id": "caP076wY7blp"
   },
   "source": [
    "Para este analisis solo selecionaremos la ciudad con mayor muestras, en este casa: Madrid"
   ]
  },
  {
   "cell_type": "code",
   "execution_count": 8,
   "metadata": {
    "colab": {
     "base_uri": "https://localhost:8080/"
    },
    "id": "tXcBthqI7au0",
    "outputId": "218c6fc2-d9dc-4ecf-f94f-bc842e357880"
   },
   "outputs": [
    {
     "name": "stdout",
     "output_type": "stream",
     "text": [
      "5.4626732230666075\n"
     ]
    }
   ],
   "source": [
    "# Filtra los valores de la columna \"City\" que contienen \"Madrid\" (sin distinguir mayúsculas y minúsculas)\n",
    "filtro = data[\"City\"].str.contains(\"Madrid\", case=False)\n",
    "\n",
    "# Aplica el filtro al DataFrame\n",
    "resultados = data[filtro]\n",
    "\n",
    "#porcentaje eliminado\n",
    "print((len(data[\"City\"]) - len(resultados))/len(data[\"City\"])*100)"
   ]
  },
  {
   "cell_type": "markdown",
   "metadata": {
    "id": "Xwym224W8GC5"
   },
   "source": [
    "Para predecir el precio del airbnb, asumimos que no necesitamos informacion relacionada al regitro de los datos, del host y ninguna url. Mantener **Thumbnail Url** necesario para descargar las imagenes."
   ]
  },
  {
   "cell_type": "markdown",
   "metadata": {
    "id": "M0Z1Erlj8dYb"
   },
   "source": []
  },
  {
   "cell_type": "code",
   "execution_count": 9,
   "metadata": {
    "id": "hCwiy8Oz8Eg2"
   },
   "outputs": [],
   "source": [
    "# Elimina las columnas especificadas del DataFrame\n",
    "columnas_a_eliminar = [\"ID\",\"Listing Url\",\"Scrape ID\",\"Last Scraped\",\"Name\",\"Summary\",\"Space\",\"Description\",\n",
    "                       \"Experiences Offered\",\"Neighborhood Overview\",\"Notes\",\"Transit\",\"Access\",\"Interaction\",\n",
    "                       \"House Rules\",\"Medium Url\",\"Picture Url\",\"XL Picture Url\",\n",
    "                       \"Host ID\",\"Host URL\",\"Host Name\",\"Host Since\",\"Host Location\",\n",
    "                       \"Host About\", \"Host Response Time\", \"Host Response Rate\", \"Host Acceptance Rate\",\n",
    "                       \"Host Thumbnail Url\", \"Host Picture Url\", \"Host Neighbourhood\", \"Host Listings Count\",\n",
    "                       \"Host Total Listings Count\", \"Host Verifications\", \"Street\", \"Neighbourhood\",\n",
    "                       \"Neighbourhood Cleansed\", \"Neighbourhood Group Cleansed\", \"City\",\"State\", \"Market\", \"Smart Location\",\n",
    "                       \"Country Code\", \"Country\", \"Latitude\", \"Longitude\", \"Amenities\", \"Weekly Price\", \"Monthly Price\", \"Calendar Updated\",\n",
    "                       \"Has Availability\",\"Availability 30\",\"Availability 60\",\"Availability 90\",\"Availability 365\",\"Calendar last Scraped\",\"First Review\",\n",
    "                       \"Last Review\",\"Review Scores Rating\",\"Review Scores Accuracy\",\"Review Scores Cleanliness\",\"Review Scores Checkin\",\"Review Scores Communication\",\n",
    "                       \"Review Scores Location\",\"Review Scores Value\",\"License\",\"Jurisdiction Names\",\"Calculated host listings count\",\"Reviews per Month\",\n",
    "                       \"Geolocation\",\"Features\"]\n",
    "resultados = resultados.drop(columns=columnas_a_eliminar)"
   ]
  },
  {
   "cell_type": "code",
   "execution_count": 10,
   "metadata": {
    "colab": {
     "base_uri": "https://localhost:8080/"
    },
    "id": "_4Tt247A84Ae",
    "outputId": "1931d49c-6a7a-4a13-d9d7-56fc1575b7ac"
   },
   "outputs": [
    {
     "name": "stdout",
     "output_type": "stream",
     "text": [
      "<class 'pandas.core.frame.DataFrame'>\n",
      "Index: 10574 entries, 0 to 11199\n",
      "Data columns (total 19 columns):\n",
      " #   Column               Non-Null Count  Dtype  \n",
      "---  ------               --------------  -----  \n",
      " 0   Price                10574 non-null  float64\n",
      " 1   Thumbnail Url        8621 non-null   object \n",
      " 2   Zipcode              10229 non-null  object \n",
      " 3   Property Type        10574 non-null  object \n",
      " 4   Room Type            10574 non-null  object \n",
      " 5   Accommodates         10574 non-null  int64  \n",
      " 6   Bathrooms            10537 non-null  float64\n",
      " 7   Bedrooms             10557 non-null  float64\n",
      " 8   Beds                 10540 non-null  float64\n",
      " 9   Bed Type             10574 non-null  object \n",
      " 10  Square Feet          421 non-null    float64\n",
      " 11  Security Deposit     4560 non-null   float64\n",
      " 12  Cleaning Fee         6263 non-null   float64\n",
      " 13  Guests Included      10574 non-null  int64  \n",
      " 14  Extra People         10574 non-null  int64  \n",
      " 15  Minimum Nights       10574 non-null  int64  \n",
      " 16  Maximum Nights       10574 non-null  int64  \n",
      " 17  Number of Reviews    10574 non-null  int64  \n",
      " 18  Cancellation Policy  10574 non-null  object \n",
      "dtypes: float64(7), int64(6), object(6)\n",
      "memory usage: 1.6+ MB\n"
     ]
    }
   ],
   "source": [
    "resultados.info()"
   ]
  },
  {
   "cell_type": "code",
   "execution_count": 11,
   "metadata": {},
   "outputs": [],
   "source": [
    "#resultados[\"Zipcode\"].fillna(\"28012\", inplace=True)"
   ]
  },
  {
   "cell_type": "code",
   "execution_count": 12,
   "metadata": {},
   "outputs": [],
   "source": [
    "if \"Zipcode\" in resultados.columns:\n",
    "    resultados[\"Zipcode\"] = resultados[\"Zipcode\"].astype(str).str.replace(r'\\D', '', regex=True)\n",
    "    resultados[\"Zipcode\"].replace('', \"28012\", inplace=True)  # Reemplaza las cadenas vacías con \"28012\"\n",
    "resultados[\"Zipcode\"].fillna(\"28012\", inplace=True)  \n",
    "resultados[\"Zipcode\"] = resultados[\"Zipcode\"].astype(int)\n"
   ]
  },
  {
   "cell_type": "code",
   "execution_count": 13,
   "metadata": {},
   "outputs": [
    {
     "name": "stdout",
     "output_type": "stream",
     "text": [
      "<class 'pandas.core.frame.DataFrame'>\n",
      "Index: 10574 entries, 0 to 11199\n",
      "Data columns (total 19 columns):\n",
      " #   Column               Non-Null Count  Dtype  \n",
      "---  ------               --------------  -----  \n",
      " 0   Price                10574 non-null  float64\n",
      " 1   Thumbnail Url        8621 non-null   object \n",
      " 2   Zipcode              10574 non-null  int64  \n",
      " 3   Property Type        10574 non-null  object \n",
      " 4   Room Type            10574 non-null  object \n",
      " 5   Accommodates         10574 non-null  int64  \n",
      " 6   Bathrooms            10537 non-null  float64\n",
      " 7   Bedrooms             10557 non-null  float64\n",
      " 8   Beds                 10540 non-null  float64\n",
      " 9   Bed Type             10574 non-null  object \n",
      " 10  Square Feet          421 non-null    float64\n",
      " 11  Security Deposit     4560 non-null   float64\n",
      " 12  Cleaning Fee         6263 non-null   float64\n",
      " 13  Guests Included      10574 non-null  int64  \n",
      " 14  Extra People         10574 non-null  int64  \n",
      " 15  Minimum Nights       10574 non-null  int64  \n",
      " 16  Maximum Nights       10574 non-null  int64  \n",
      " 17  Number of Reviews    10574 non-null  int64  \n",
      " 18  Cancellation Policy  10574 non-null  object \n",
      "dtypes: float64(7), int64(7), object(5)\n",
      "memory usage: 1.6+ MB\n"
     ]
    }
   ],
   "source": [
    "resultados.info()"
   ]
  },
  {
   "cell_type": "markdown",
   "metadata": {
    "id": "-C80k86Y9bgC"
   },
   "source": [
    "Imputacion de valores para columnas con valores NaN como: ZipCode uso del mas comun"
   ]
  },
  {
   "cell_type": "code",
   "execution_count": 14,
   "metadata": {
    "colab": {
     "base_uri": "https://localhost:8080/"
    },
    "id": "9UWEBBuu9acq",
    "outputId": "8832cf3c-fcb2-40d7-d338-cfa6fa8c1db8"
   },
   "outputs": [
    {
     "data": {
      "text/plain": [
       "'# Cuenta la frecuencia de los códigos postales y ordena los resultados\\nzipcode_counts = resultados[\"Zipcode\"].value_counts().sort_values(ascending=False)\\n# Obtener el código postal más común\\ncodigo_postal_comun = zipcode_counts.index[0]\\n# Imprimir el código postal más común\\nprint(\"Código Postal más común:\", codigo_postal_comun)\\nzipcode_sin_nan = resultados.dropna(subset=[\"Zipcode\"])\\nprint(zipcode_sin_nan)\\n# Filtrar solo el código postal 28012\\nzipcode_28012 = zipcode_sin_nan[zipcode_sin_nan[\"Zipcode\"] == \"28012\"]\\n# Calcula la media y la dispersión de los precios\\nmedia = zipcode_28012[\"Price\"].mean()\\ndispersion = zipcode_28012[\"Price\"].std()\\n\\n# Imprime la media y la dispersión\\nprint(\"Media:\", media)\\nprint(\"Dispersión:\", dispersion)\\n\\nresultados[\"Zipcode\"].fillna(\"28012\", inplace=True)\\n# Filtrar solo el código postal 28012\\nzipcode_28012_imputados = resultados[resultados[\"Zipcode\"] == \"28012\"]\\n\\n# Calcula la media y la dispersión de los precios\\nmedia = zipcode_28012_imputados[\"Price\"].mean()\\ndispersion = zipcode_28012_imputados[\"Price\"].std()\\n\\n# Imprime la media y la dispersión\\nprint(\"Media:\", media)\\nprint(\"Dispersión:\", dispersion)\\nnan_count = resultados[\"Zipcode\"].isna().sum()\\nprint(nan_count)\\nresultados[\"Zipcode\"] = resultados[\"Zipcode\"].str.replace(r\\'\\\\D\\', \\'\\', regex=True)\\nresultados[\"Zipcode\"] = resultados[\"Zipcode\"].astype(float)\\nresultados.info()'"
      ]
     },
     "execution_count": 14,
     "metadata": {},
     "output_type": "execute_result"
    }
   ],
   "source": [
    "'''# Cuenta la frecuencia de los códigos postales y ordena los resultados\n",
    "zipcode_counts = resultados[\"Zipcode\"].value_counts().sort_values(ascending=False)\n",
    "# Obtener el código postal más común\n",
    "codigo_postal_comun = zipcode_counts.index[0]\n",
    "# Imprimir el código postal más común\n",
    "print(\"Código Postal más común:\", codigo_postal_comun)\n",
    "zipcode_sin_nan = resultados.dropna(subset=[\"Zipcode\"])\n",
    "print(zipcode_sin_nan)\n",
    "# Filtrar solo el código postal 28012\n",
    "zipcode_28012 = zipcode_sin_nan[zipcode_sin_nan[\"Zipcode\"] == \"28012\"]\n",
    "# Calcula la media y la dispersión de los precios\n",
    "media = zipcode_28012[\"Price\"].mean()\n",
    "dispersion = zipcode_28012[\"Price\"].std()\n",
    "\n",
    "# Imprime la media y la dispersión\n",
    "print(\"Media:\", media)\n",
    "print(\"Dispersión:\", dispersion)\n",
    "\n",
    "resultados[\"Zipcode\"].fillna(\"28012\", inplace=True)\n",
    "# Filtrar solo el código postal 28012\n",
    "zipcode_28012_imputados = resultados[resultados[\"Zipcode\"] == \"28012\"]\n",
    "\n",
    "# Calcula la media y la dispersión de los precios\n",
    "media = zipcode_28012_imputados[\"Price\"].mean()\n",
    "dispersion = zipcode_28012_imputados[\"Price\"].std()\n",
    "\n",
    "# Imprime la media y la dispersión\n",
    "print(\"Media:\", media)\n",
    "print(\"Dispersión:\", dispersion)\n",
    "nan_count = resultados[\"Zipcode\"].isna().sum()\n",
    "print(nan_count)\n",
    "resultados[\"Zipcode\"] = resultados[\"Zipcode\"].str.replace(r'\\D', '', regex=True)\n",
    "resultados[\"Zipcode\"] = resultados[\"Zipcode\"].astype(float)\n",
    "resultados.info()'''"
   ]
  },
  {
   "cell_type": "markdown",
   "metadata": {
    "id": "fvvRLkiS-u_T"
   },
   "source": [
    "Imputacion de la mediana a valores NAN en Bathrooms, Bedrooms, Beds, Square Feet, Security Deposit, Cleaning Fee"
   ]
  },
  {
   "cell_type": "code",
   "execution_count": 15,
   "metadata": {
    "colab": {
     "base_uri": "https://localhost:8080/"
    },
    "id": "em1p1VTY-8df",
    "outputId": "e0631551-232e-4274-f7ce-099ad6e49e82"
   },
   "outputs": [
    {
     "name": "stdout",
     "output_type": "stream",
     "text": [
      "1.0\n",
      "Media bathroom antes: 56.65086848635236\n",
      "Dispersión bathroom antes: 36.45275052327768\n",
      "Media bathroom despues: 56.775595899715945\n",
      "Dispersión bathroom despues: 36.75970412087228\n",
      "Media Bedrooms antes: 48.625017450788775\n",
      "Dispersión Bedrooms antes: 34.52452555336335\n",
      "Media Bedrooms despues: 48.614066852367685\n",
      "Dispersión Bedrooms despues: 34.51386784038831\n",
      "Media Beds antes: 66.65916175961205\n",
      "Dispersión Beds antes: 38.40484733844426\n",
      "Media Beds despues: 66.6412187606984\n",
      "Dispersión Beds despues: 38.80231774102879\n"
     ]
    }
   ],
   "source": [
    "# Imputación con la mediana\n",
    "median_bathrooms = resultados[\"Bathrooms\"].median()\n",
    "bathrooms_sin_nan = resultados.dropna(subset=[\"Bathrooms\"])\n",
    "\n",
    "bathrom_ = bathrooms_sin_nan[bathrooms_sin_nan[\"Bathrooms\"] == median_bathrooms]\n",
    "print(median_bathrooms)\n",
    "# Calcula la media y la dispersión de los precios\n",
    "media = bathrom_[\"Price\"].mean()\n",
    "dispersion = bathrom_[\"Price\"].std()\n",
    "\n",
    "# Imprime la media y la dispersión\n",
    "print(\"Media bathroom antes:\", media)\n",
    "print(\"Dispersión bathroom antes:\", dispersion)\n",
    "resultados[\"Bathrooms\"].fillna(median_bathrooms, inplace=True)\n",
    "bathrom_imputado = resultados[resultados[\"Bathrooms\"] == median_bathrooms]\n",
    "\n",
    "# Calcula la media y la dispersión de los precios\n",
    "media = bathrom_imputado[\"Price\"].mean()\n",
    "dispersion = bathrom_imputado[\"Price\"].std()\n",
    "\n",
    "# Imprime la media y la dispersión\n",
    "print(\"Media bathroom despues:\", media)\n",
    "print(\"Dispersión bathroom despues:\", dispersion)\n",
    "\n",
    "# Imputación con la mediana\n",
    "median_Bedrooms = resultados[\"Bedrooms\"].median()\n",
    "Bedrooms_sin_nan = resultados.dropna(subset=[\"Bedrooms\"])\n",
    "\n",
    "Bedrooms_ = Bedrooms_sin_nan[Bedrooms_sin_nan[\"Bedrooms\"] == median_Bedrooms]\n",
    "\n",
    "# Calcula la media y la dispersión de los precios\n",
    "media = Bedrooms_[\"Price\"].mean()\n",
    "dispersion = Bedrooms_[\"Price\"].std()\n",
    "\n",
    "# Imprime la media y la dispersión\n",
    "print(\"Media Bedrooms antes:\", media)\n",
    "print(\"Dispersión Bedrooms antes:\", dispersion)\n",
    "resultados[\"Bedrooms\"].fillna(median_Bedrooms, inplace=True)\n",
    "Bedrooms_imputado = resultados[resultados[\"Bedrooms\"] == median_Bedrooms]\n",
    "\n",
    "# Calcula la media y la dispersión de los precios\n",
    "media = Bedrooms_imputado[\"Price\"].mean()\n",
    "dispersion = Bedrooms_imputado[\"Price\"].std()\n",
    "\n",
    "# Imprime la media y la dispersión\n",
    "print(\"Media Bedrooms despues:\", media)\n",
    "print(\"Dispersión Bedrooms despues:\", dispersion)\n",
    "\n",
    "# Imputación con la mediana\n",
    "median_Beds = resultados[\"Beds\"].median()\n",
    "Beds_sin_nan = resultados.dropna(subset=[\"Beds\"])\n",
    "\n",
    "Beds_ = Beds_sin_nan[Beds_sin_nan[\"Beds\"] == median_Beds]\n",
    "\n",
    "# Calcula la media y la dispersión de los precios\n",
    "media = Beds_[\"Price\"].mean()\n",
    "dispersion = Beds_[\"Price\"].std()\n",
    "\n",
    "# Imprime la media y la dispersión\n",
    "print(\"Media Beds antes:\", media)\n",
    "print(\"Dispersión Beds antes:\", dispersion)\n",
    "resultados[\"Beds\"].fillna(median_Beds, inplace=True)\n",
    "Beds_imputado = resultados[resultados[\"Beds\"] == median_Beds]\n",
    "\n",
    "# Calcula la media y la dispersión de los precios\n",
    "media = Beds_imputado[\"Price\"].mean()\n",
    "dispersion = Beds_imputado[\"Price\"].std()\n",
    "\n",
    "# Imprime la media y la dispersión\n",
    "print(\"Media Beds despues:\", media)\n",
    "print(\"Dispersión Beds despues:\", dispersion)\n"
   ]
  },
  {
   "cell_type": "markdown",
   "metadata": {
    "id": "iBa6g_yA_er4"
   },
   "source": [
    "Imputacion de valores de la mediana de Security Deposit y Cleaning Fee"
   ]
  },
  {
   "cell_type": "code",
   "execution_count": 16,
   "metadata": {
    "colab": {
     "base_uri": "https://localhost:8080/"
    },
    "id": "OMunGSga_fqK",
    "outputId": "980ab66e-1158-4536-f98f-0946e3322f12"
   },
   "outputs": [
    {
     "name": "stdout",
     "output_type": "stream",
     "text": [
      "Media Security Deposit antes: 73.2110497237569\n",
      "Dispersión Security Deposit antes: 31.838028437070236\n",
      "Media Security Deposit despues: 58.33574215927157\n",
      "Dispersión Security Deposit despues: 52.53404720815642\n",
      "Media Cleaning Fee antes: 64.59154929577464\n",
      "Dispersión Cleaning Fee antes: 23.730751577540804\n",
      "Media Cleaning Fee despues: 55.44783767165403\n",
      "Dispersión Cleaning Fee despues: 50.13866887116256\n"
     ]
    }
   ],
   "source": [
    "# Imputación con la mediana\n",
    "median_SD= resultados[\"Security Deposit\"].median()\n",
    "SD_sin_nan = resultados.dropna(subset=[\"Security Deposit\"])\n",
    "\n",
    "SD_ = SD_sin_nan[SD_sin_nan[\"Security Deposit\"] == median_SD]\n",
    "\n",
    "# Calcula la media y la dispersión de los precios\n",
    "media = SD_[\"Price\"].mean()\n",
    "dispersion = SD_[\"Price\"].std()\n",
    "\n",
    "# Imprime la media y la dispersión\n",
    "print(\"Media Security Deposit antes:\", media)\n",
    "print(\"Dispersión Security Deposit antes:\", dispersion)\n",
    "resultados[\"Security Deposit\"].fillna(median_SD, inplace=True)\n",
    "SD_imputado = resultados[resultados[\"Security Deposit\"] == median_SD]\n",
    "\n",
    "# Calcula la media y la dispersión de los precios\n",
    "media = SD_imputado[\"Price\"].mean()\n",
    "dispersion = SD_imputado[\"Price\"].std()\n",
    "\n",
    "# Imprime la media y la dispersión\n",
    "print(\"Media Security Deposit despues:\", media)\n",
    "print(\"Dispersión Security Deposit despues:\", dispersion)\n",
    "\n",
    "# Imputación con la mediana\n",
    "median_CF= resultados[\"Cleaning Fee\"].median()\n",
    "CF_sin_nan = resultados.dropna(subset=[\"Cleaning Fee\"])\n",
    "\n",
    "CF_ = CF_sin_nan[CF_sin_nan[\"Cleaning Fee\"] == median_CF]\n",
    "\n",
    "# Calcula la media y la dispersión de los precios\n",
    "media = CF_[\"Price\"].mean()\n",
    "dispersion = CF_[\"Price\"].std()\n",
    "\n",
    "# Imprime la media y la dispersión\n",
    "print(\"Media Cleaning Fee antes:\", media)\n",
    "print(\"Dispersión Cleaning Fee antes:\", dispersion)\n",
    "resultados[\"Cleaning Fee\"].fillna(median_CF, inplace=True)\n",
    "\n",
    "CF_imputado = resultados[resultados[\"Cleaning Fee\"] == median_CF]\n",
    "\n",
    "# Calcula la media y la dispersión de los precios\n",
    "media = CF_imputado[\"Price\"].mean()\n",
    "dispersion = CF_imputado[\"Price\"].std()\n",
    "\n",
    "# Imprime la media y la dispersión\n",
    "print(\"Media Cleaning Fee despues:\", media)\n",
    "print(\"Dispersión Cleaning Fee despues:\", dispersion)"
   ]
  },
  {
   "cell_type": "code",
   "execution_count": 17,
   "metadata": {},
   "outputs": [
    {
     "name": "stdout",
     "output_type": "stream",
     "text": [
      "<class 'pandas.core.frame.DataFrame'>\n",
      "Index: 10574 entries, 0 to 11199\n",
      "Data columns (total 19 columns):\n",
      " #   Column               Non-Null Count  Dtype  \n",
      "---  ------               --------------  -----  \n",
      " 0   Price                10574 non-null  float64\n",
      " 1   Thumbnail Url        8621 non-null   object \n",
      " 2   Zipcode              10574 non-null  int64  \n",
      " 3   Property Type        10574 non-null  object \n",
      " 4   Room Type            10574 non-null  object \n",
      " 5   Accommodates         10574 non-null  int64  \n",
      " 6   Bathrooms            10574 non-null  float64\n",
      " 7   Bedrooms             10574 non-null  float64\n",
      " 8   Beds                 10574 non-null  float64\n",
      " 9   Bed Type             10574 non-null  object \n",
      " 10  Square Feet          421 non-null    float64\n",
      " 11  Security Deposit     10574 non-null  float64\n",
      " 12  Cleaning Fee         10574 non-null  float64\n",
      " 13  Guests Included      10574 non-null  int64  \n",
      " 14  Extra People         10574 non-null  int64  \n",
      " 15  Minimum Nights       10574 non-null  int64  \n",
      " 16  Maximum Nights       10574 non-null  int64  \n",
      " 17  Number of Reviews    10574 non-null  int64  \n",
      " 18  Cancellation Policy  10574 non-null  object \n",
      "dtypes: float64(7), int64(7), object(5)\n",
      "memory usage: 1.6+ MB\n"
     ]
    }
   ],
   "source": [
    "resultados.info()"
   ]
  },
  {
   "cell_type": "markdown",
   "metadata": {
    "id": "_DWCUXXNAF5L"
   },
   "source": [
    "Si imputo por una valor constante como en los casos anteriores estaria rellenando casi el 96 % de los datos de Square Feet. Asi que esta caracteristica no se usara para entrenar el modelo. Varias caracteristicas podrian categorizarse pero no se utilizaran para este analisis"
   ]
  },
  {
   "cell_type": "code",
   "execution_count": 18,
   "metadata": {
    "colab": {
     "base_uri": "https://localhost:8080/"
    },
    "id": "D1Xs9gorA16M",
    "outputId": "f2b3fa07-c046-49de-f525-d66ef4209980"
   },
   "outputs": [
    {
     "name": "stdout",
     "output_type": "stream",
     "text": [
      "<class 'pandas.core.frame.DataFrame'>\n",
      "Index: 10574 entries, 0 to 11199\n",
      "Data columns (total 14 columns):\n",
      " #   Column             Non-Null Count  Dtype  \n",
      "---  ------             --------------  -----  \n",
      " 0   Price              10574 non-null  float64\n",
      " 1   Thumbnail Url      8621 non-null   object \n",
      " 2   Zipcode            10574 non-null  int64  \n",
      " 3   Accommodates       10574 non-null  int64  \n",
      " 4   Bathrooms          10574 non-null  float64\n",
      " 5   Bedrooms           10574 non-null  float64\n",
      " 6   Beds               10574 non-null  float64\n",
      " 7   Security Deposit   10574 non-null  float64\n",
      " 8   Cleaning Fee       10574 non-null  float64\n",
      " 9   Guests Included    10574 non-null  int64  \n",
      " 10  Extra People       10574 non-null  int64  \n",
      " 11  Minimum Nights     10574 non-null  int64  \n",
      " 12  Maximum Nights     10574 non-null  int64  \n",
      " 13  Number of Reviews  10574 non-null  int64  \n",
      "dtypes: float64(6), int64(7), object(1)\n",
      "memory usage: 1.2+ MB\n"
     ]
    }
   ],
   "source": [
    "resultados.drop(\"Square Feet\", axis=1, inplace=True)\n",
    "resultados = resultados.drop(['Property Type', 'Room Type', 'Bed Type', 'Cancellation Policy'], axis=1)\n",
    "resultados.info()"
   ]
  },
  {
   "cell_type": "code",
   "execution_count": 19,
   "metadata": {
    "colab": {
     "base_uri": "https://localhost:8080/"
    },
    "id": "GiywEJeHZDQf",
    "outputId": "c0ad44ab-c944-47a0-c0c3-88bc7422a940"
   },
   "outputs": [
    {
     "data": {
      "text/plain": [
       "Index(['Price', 'Thumbnail Url', 'Zipcode', 'Accommodates', 'Bathrooms',\n",
       "       'Bedrooms', 'Beds', 'Security Deposit', 'Cleaning Fee',\n",
       "       'Guests Included', 'Extra People', 'Minimum Nights', 'Maximum Nights',\n",
       "       'Number of Reviews'],\n",
       "      dtype='object')"
      ]
     },
     "execution_count": 19,
     "metadata": {},
     "output_type": "execute_result"
    }
   ],
   "source": [
    "# ¿De qué variables disponemos?\n",
    "resultados.columns"
   ]
  },
  {
   "cell_type": "markdown",
   "metadata": {
    "id": "hcFvOfrqGFxY"
   },
   "source": [
    "La columna necesaria \"Thumbnail Url\" para descargar los datos de imagenes se colocaran en la primera columna"
   ]
  },
  {
   "cell_type": "code",
   "execution_count": 20,
   "metadata": {
    "id": "NRd1PZVDGEoX"
   },
   "outputs": [],
   "source": [
    "# Obtener el índice de la columna \"Thumbnail Url\"\n",
    "cols = list(resultados.columns)\n",
    "column_index = resultados.columns.get_loc(\"Thumbnail Url\")\n",
    "cols.append(cols.pop(column_index))\n",
    "resultados = resultados[cols]\n"
   ]
  },
  {
   "cell_type": "code",
   "execution_count": null,
   "metadata": {},
   "outputs": [],
   "source": []
  },
  {
   "cell_type": "markdown",
   "metadata": {
    "id": "wLV1Sqm-ZUO3"
   },
   "source": [
    "## Descarga de imágenes"
   ]
  },
  {
   "cell_type": "code",
   "execution_count": 21,
   "metadata": {
    "id": "PYU6JbCqZWJV"
   },
   "outputs": [],
   "source": [
    "def download_images(paths: list,\n",
    "                    canvas: tuple = (224, 224),\n",
    "                    nb_channels: int = 3,\n",
    "                    max_imgs: Optional[int] = None\n",
    "                    ) -> tuple:\n",
    "  \"\"\" Download a list of images from url adresses, converting them to a specific\n",
    "  canvas size.\n",
    "\n",
    "  Args:\n",
    "    paths: Paths or url adresses from which to load images.\n",
    "    canvas: Desired image width and height.\n",
    "    nb_channels: Channels in images (1 for B/W, 3 for RGB).\n",
    "    max_imgs: Upper threshold in the number of images to download.\n",
    "\n",
    "  Return:\n",
    "    a tuple of:\n",
    "      - image values\n",
    "      - indices within the paths that were successfull.\n",
    "\n",
    "  \"\"\"\n",
    "  n_images = len(paths) if not max_imgs else max_imgs\n",
    "  images = numpy.zeros((n_images, canvas[0], canvas[1], nb_channels),\n",
    "                       dtype=numpy.uint8)\n",
    "  downloaded_idxs = []\n",
    "\n",
    "  for i_img, url in enumerate(tqdm(paths, total=n_images)):\n",
    "    if i_img >= n_images:\n",
    "      break\n",
    "    try:\n",
    "        img = io.imread(url)\n",
    "        img = cv2.resize(img, (canvas[0], canvas[1]))\n",
    "        downloaded_idxs.append(i_img)\n",
    "        images[i_img] = img\n",
    "    except (IOError, ValueError) as e:  # Unavailable url / conversion error\n",
    "        pass\n",
    "  return images[downloaded_idxs], downloaded_idxs"
   ]
  },
  {
   "cell_type": "markdown",
   "metadata": {
    "id": "nx1Vx1wHbUA3"
   },
   "source": [
    "# Train"
   ]
  },
  {
   "cell_type": "markdown",
   "metadata": {
    "id": "-SGDEHKjl4GY"
   },
   "source": [
    "Normalización y conversión en el rango [0, 1]"
   ]
  },
  {
   "cell_type": "code",
   "execution_count": 22,
   "metadata": {
    "colab": {
     "base_uri": "https://localhost:8080/"
    },
    "id": "RdTh_y_tlUPm",
    "outputId": "a8818c6e-e38c-4ae3-87c0-caec7a48c9e0"
   },
   "outputs": [
    {
     "name": "stderr",
     "output_type": "stream",
     "text": [
      "100%|██████████| 10574/10574 [50:28<00:00,  3.49it/s]  \n"
     ]
    },
    {
     "data": {
      "text/plain": [
       "(6762, 224, 224, 3)"
      ]
     },
     "execution_count": 22,
     "metadata": {},
     "output_type": "execute_result"
    }
   ],
   "source": [
    "imagesTrain, idxs_Train = download_images(resultados['Thumbnail Url'], max_imgs=None)\n",
    "imagesTrain = imagesTrain.astype(\"float32\") / 255.\n",
    "imagesTrain.shape"
   ]
  },
  {
   "cell_type": "code",
   "execution_count": 23,
   "metadata": {
    "id": "yp3-EbGUldXh"
   },
   "outputs": [
    {
     "data": {
      "text/html": [
       "<div>\n",
       "<style scoped>\n",
       "    .dataframe tbody tr th:only-of-type {\n",
       "        vertical-align: middle;\n",
       "    }\n",
       "\n",
       "    .dataframe tbody tr th {\n",
       "        vertical-align: top;\n",
       "    }\n",
       "\n",
       "    .dataframe thead th {\n",
       "        text-align: right;\n",
       "    }\n",
       "</style>\n",
       "<table border=\"1\" class=\"dataframe\">\n",
       "  <thead>\n",
       "    <tr style=\"text-align: right;\">\n",
       "      <th></th>\n",
       "      <th>Price</th>\n",
       "      <th>Zipcode</th>\n",
       "      <th>Accommodates</th>\n",
       "      <th>Bathrooms</th>\n",
       "      <th>Bedrooms</th>\n",
       "      <th>Beds</th>\n",
       "      <th>Security Deposit</th>\n",
       "      <th>Cleaning Fee</th>\n",
       "      <th>Guests Included</th>\n",
       "      <th>Extra People</th>\n",
       "      <th>Minimum Nights</th>\n",
       "      <th>Maximum Nights</th>\n",
       "      <th>Number of Reviews</th>\n",
       "      <th>Thumbnail Url</th>\n",
       "    </tr>\n",
       "  </thead>\n",
       "  <tbody>\n",
       "    <tr>\n",
       "      <th>0</th>\n",
       "      <td>22.0</td>\n",
       "      <td>28012</td>\n",
       "      <td>2</td>\n",
       "      <td>1.0</td>\n",
       "      <td>1.0</td>\n",
       "      <td>2.0</td>\n",
       "      <td>150.0</td>\n",
       "      <td>5.0</td>\n",
       "      <td>1</td>\n",
       "      <td>0</td>\n",
       "      <td>1</td>\n",
       "      <td>4</td>\n",
       "      <td>20</td>\n",
       "      <td>https://a0.muscache.com/im/pictures/63f14611-6...</td>\n",
       "    </tr>\n",
       "    <tr>\n",
       "      <th>1</th>\n",
       "      <td>40.0</td>\n",
       "      <td>28010</td>\n",
       "      <td>2</td>\n",
       "      <td>1.0</td>\n",
       "      <td>0.0</td>\n",
       "      <td>1.0</td>\n",
       "      <td>150.0</td>\n",
       "      <td>10.0</td>\n",
       "      <td>1</td>\n",
       "      <td>0</td>\n",
       "      <td>2</td>\n",
       "      <td>1125</td>\n",
       "      <td>30</td>\n",
       "      <td>https://a0.muscache.com/im/pictures/90af47ae-0...</td>\n",
       "    </tr>\n",
       "    <tr>\n",
       "      <th>2</th>\n",
       "      <td>32.0</td>\n",
       "      <td>28014</td>\n",
       "      <td>3</td>\n",
       "      <td>1.0</td>\n",
       "      <td>1.0</td>\n",
       "      <td>3.0</td>\n",
       "      <td>150.0</td>\n",
       "      <td>25.0</td>\n",
       "      <td>1</td>\n",
       "      <td>11</td>\n",
       "      <td>1</td>\n",
       "      <td>1125</td>\n",
       "      <td>82</td>\n",
       "      <td>https://a0.muscache.com/im/pictures/95683644/1...</td>\n",
       "    </tr>\n",
       "    <tr>\n",
       "      <th>3</th>\n",
       "      <td>102.0</td>\n",
       "      <td>28015</td>\n",
       "      <td>5</td>\n",
       "      <td>1.0</td>\n",
       "      <td>1.0</td>\n",
       "      <td>3.0</td>\n",
       "      <td>300.0</td>\n",
       "      <td>42.0</td>\n",
       "      <td>1</td>\n",
       "      <td>11</td>\n",
       "      <td>3</td>\n",
       "      <td>365</td>\n",
       "      <td>16</td>\n",
       "      <td>https://a0.muscache.com/im/pictures/514847/938...</td>\n",
       "    </tr>\n",
       "    <tr>\n",
       "      <th>6</th>\n",
       "      <td>45.0</td>\n",
       "      <td>28014</td>\n",
       "      <td>4</td>\n",
       "      <td>1.0</td>\n",
       "      <td>1.0</td>\n",
       "      <td>2.0</td>\n",
       "      <td>150.0</td>\n",
       "      <td>20.0</td>\n",
       "      <td>2</td>\n",
       "      <td>15</td>\n",
       "      <td>2</td>\n",
       "      <td>1125</td>\n",
       "      <td>131</td>\n",
       "      <td>https://a0.muscache.com/im/pictures/76405548/a...</td>\n",
       "    </tr>\n",
       "    <tr>\n",
       "      <th>...</th>\n",
       "      <td>...</td>\n",
       "      <td>...</td>\n",
       "      <td>...</td>\n",
       "      <td>...</td>\n",
       "      <td>...</td>\n",
       "      <td>...</td>\n",
       "      <td>...</td>\n",
       "      <td>...</td>\n",
       "      <td>...</td>\n",
       "      <td>...</td>\n",
       "      <td>...</td>\n",
       "      <td>...</td>\n",
       "      <td>...</td>\n",
       "      <td>...</td>\n",
       "    </tr>\n",
       "    <tr>\n",
       "      <th>11193</th>\n",
       "      <td>21.0</td>\n",
       "      <td>280050</td>\n",
       "      <td>2</td>\n",
       "      <td>1.0</td>\n",
       "      <td>1.0</td>\n",
       "      <td>2.0</td>\n",
       "      <td>150.0</td>\n",
       "      <td>10.0</td>\n",
       "      <td>1</td>\n",
       "      <td>15</td>\n",
       "      <td>1</td>\n",
       "      <td>1125</td>\n",
       "      <td>0</td>\n",
       "      <td>https://a0.muscache.com/im/pictures/f50d4d7b-7...</td>\n",
       "    </tr>\n",
       "    <tr>\n",
       "      <th>11195</th>\n",
       "      <td>19.0</td>\n",
       "      <td>280190</td>\n",
       "      <td>1</td>\n",
       "      <td>1.0</td>\n",
       "      <td>1.0</td>\n",
       "      <td>1.0</td>\n",
       "      <td>150.0</td>\n",
       "      <td>25.0</td>\n",
       "      <td>1</td>\n",
       "      <td>0</td>\n",
       "      <td>1</td>\n",
       "      <td>1125</td>\n",
       "      <td>4</td>\n",
       "      <td>https://a0.muscache.com/im/pictures/68735078/5...</td>\n",
       "    </tr>\n",
       "    <tr>\n",
       "      <th>11196</th>\n",
       "      <td>59.0</td>\n",
       "      <td>280050</td>\n",
       "      <td>2</td>\n",
       "      <td>1.0</td>\n",
       "      <td>1.0</td>\n",
       "      <td>1.0</td>\n",
       "      <td>150.0</td>\n",
       "      <td>10.0</td>\n",
       "      <td>2</td>\n",
       "      <td>0</td>\n",
       "      <td>2</td>\n",
       "      <td>1125</td>\n",
       "      <td>74</td>\n",
       "      <td>https://a0.muscache.com/im/pictures/5527c6ce-f...</td>\n",
       "    </tr>\n",
       "    <tr>\n",
       "      <th>11198</th>\n",
       "      <td>35.0</td>\n",
       "      <td>28012</td>\n",
       "      <td>2</td>\n",
       "      <td>1.0</td>\n",
       "      <td>1.0</td>\n",
       "      <td>2.0</td>\n",
       "      <td>150.0</td>\n",
       "      <td>25.0</td>\n",
       "      <td>1</td>\n",
       "      <td>0</td>\n",
       "      <td>2</td>\n",
       "      <td>20</td>\n",
       "      <td>0</td>\n",
       "      <td>https://a0.muscache.com/im/pictures/103d4c11-0...</td>\n",
       "    </tr>\n",
       "    <tr>\n",
       "      <th>11199</th>\n",
       "      <td>59.0</td>\n",
       "      <td>280050</td>\n",
       "      <td>4</td>\n",
       "      <td>1.0</td>\n",
       "      <td>1.0</td>\n",
       "      <td>2.0</td>\n",
       "      <td>150.0</td>\n",
       "      <td>20.0</td>\n",
       "      <td>2</td>\n",
       "      <td>10</td>\n",
       "      <td>2</td>\n",
       "      <td>1125</td>\n",
       "      <td>14</td>\n",
       "      <td>https://a0.muscache.com/im/pictures/111483720/...</td>\n",
       "    </tr>\n",
       "  </tbody>\n",
       "</table>\n",
       "<p>6762 rows × 14 columns</p>\n",
       "</div>"
      ],
      "text/plain": [
       "       Price  Zipcode  Accommodates  Bathrooms  Bedrooms  Beds  \\\n",
       "0       22.0    28012             2        1.0       1.0   2.0   \n",
       "1       40.0    28010             2        1.0       0.0   1.0   \n",
       "2       32.0    28014             3        1.0       1.0   3.0   \n",
       "3      102.0    28015             5        1.0       1.0   3.0   \n",
       "6       45.0    28014             4        1.0       1.0   2.0   \n",
       "...      ...      ...           ...        ...       ...   ...   \n",
       "11193   21.0   280050             2        1.0       1.0   2.0   \n",
       "11195   19.0   280190             1        1.0       1.0   1.0   \n",
       "11196   59.0   280050             2        1.0       1.0   1.0   \n",
       "11198   35.0    28012             2        1.0       1.0   2.0   \n",
       "11199   59.0   280050             4        1.0       1.0   2.0   \n",
       "\n",
       "       Security Deposit  Cleaning Fee  Guests Included  Extra People  \\\n",
       "0                 150.0           5.0                1             0   \n",
       "1                 150.0          10.0                1             0   \n",
       "2                 150.0          25.0                1            11   \n",
       "3                 300.0          42.0                1            11   \n",
       "6                 150.0          20.0                2            15   \n",
       "...                 ...           ...              ...           ...   \n",
       "11193             150.0          10.0                1            15   \n",
       "11195             150.0          25.0                1             0   \n",
       "11196             150.0          10.0                2             0   \n",
       "11198             150.0          25.0                1             0   \n",
       "11199             150.0          20.0                2            10   \n",
       "\n",
       "       Minimum Nights  Maximum Nights  Number of Reviews  \\\n",
       "0                   1               4                 20   \n",
       "1                   2            1125                 30   \n",
       "2                   1            1125                 82   \n",
       "3                   3             365                 16   \n",
       "6                   2            1125                131   \n",
       "...               ...             ...                ...   \n",
       "11193               1            1125                  0   \n",
       "11195               1            1125                  4   \n",
       "11196               2            1125                 74   \n",
       "11198               2              20                  0   \n",
       "11199               2            1125                 14   \n",
       "\n",
       "                                           Thumbnail Url  \n",
       "0      https://a0.muscache.com/im/pictures/63f14611-6...  \n",
       "1      https://a0.muscache.com/im/pictures/90af47ae-0...  \n",
       "2      https://a0.muscache.com/im/pictures/95683644/1...  \n",
       "3      https://a0.muscache.com/im/pictures/514847/938...  \n",
       "6      https://a0.muscache.com/im/pictures/76405548/a...  \n",
       "...                                                  ...  \n",
       "11193  https://a0.muscache.com/im/pictures/f50d4d7b-7...  \n",
       "11195  https://a0.muscache.com/im/pictures/68735078/5...  \n",
       "11196  https://a0.muscache.com/im/pictures/5527c6ce-f...  \n",
       "11198  https://a0.muscache.com/im/pictures/103d4c11-0...  \n",
       "11199  https://a0.muscache.com/im/pictures/111483720/...  \n",
       "\n",
       "[6762 rows x 14 columns]"
      ]
     },
     "execution_count": 23,
     "metadata": {},
     "output_type": "execute_result"
    }
   ],
   "source": [
    "filtered_data_Train = resultados.iloc[idxs_Train]\n",
    "filtered_data_Train"
   ]
  },
  {
   "cell_type": "code",
   "execution_count": 24,
   "metadata": {
    "id": "m0OUYs1fmuKA"
   },
   "outputs": [],
   "source": [
    "numpy.save('imageTrain.npy', imagesTrain)\n",
    "filtered_data_Train.to_csv('filtered_data_Train.csv', sep=';', index=False)"
   ]
  },
  {
   "cell_type": "code",
   "execution_count": 25,
   "metadata": {
    "id": "DJtOJZbuqLju"
   },
   "outputs": [
    {
     "data": {
      "text/plain": [
       "((6762, 14), (6762, 224, 224, 3))"
      ]
     },
     "execution_count": 25,
     "metadata": {},
     "output_type": "execute_result"
    }
   ],
   "source": [
    "# Comprobamos a abrirlos de nuevo \n",
    "saved_data_Train = pandas.read_csv(\"filtered_data_Train.csv\", sep=';')\n",
    "saved_imgs_Train = numpy.load(\"imageTrain.npy\")\n",
    "saved_data_Train.shape, saved_imgs_Train.shape"
   ]
  },
  {
   "cell_type": "code",
   "execution_count": 26,
   "metadata": {
    "id": "gVKdIAnGFVJF"
   },
   "outputs": [],
   "source": [
    "y_train = saved_data_Train.iloc[:, 0:1]   # Seleccionamos la primera columna, price\n",
    "X_train = saved_data_Train.iloc[:, 1:-1]  # Seleccionamos todas las columnas excepto la primera y la última\n",
    "\n",
    "scaler = preprocessing.StandardScaler().fit(X_train)\n",
    "XtrainScaled = scaler.transform(X_train)\n",
    "\n",
    "X_train = XtrainScaled "
   ]
  },
  {
   "cell_type": "markdown",
   "metadata": {
    "id": "tJR81e6TbX_P"
   },
   "source": [
    "# Test"
   ]
  },
  {
   "cell_type": "code",
   "execution_count": 27,
   "metadata": {
    "id": "rxxshjmWbXDQ"
   },
   "outputs": [],
   "source": [
    "dataTest = pandas.read_csv('test.csv', sep=';', decimal='.')\n",
    "# Extraer la columna \"Precio\"\n",
    "price_column = dataTest['Price']\n",
    "# Eliminar la columna \"Precio\" del dataTestTestFrame\n",
    "dataTest.drop('Price', axis=1, inplace=True)\n",
    "# Insertar la columna \"Price\" en la primera posición del dataTestTestFrame\n",
    "dataTest.insert(0, 'Price', price_column)\n",
    "\n",
    "dataTest = dataTest.dropna(subset=[\"City\"])\n",
    "# Filtra los valores de la columna \"City\" que contienen \"Madrid\" (sin distinguir mayúsculas y minúsculas)\n",
    "filtro = dataTest[\"City\"].str.contains(\"Madrid\", case=False)\n",
    "\n",
    "# Aplica el filtro al dataTestTestTestFrame\n",
    "resultadosTest = dataTest[filtro]\n",
    "# Elimina las columnas especificadas del dataTestTestTestFrame\n",
    "columnas_a_eliminar = [\"ID\",\"Listing Url\",\"Scrape ID\",\"Last Scraped\",\"Name\",\"Summary\",\"Space\",\"Description\",\n",
    "                       \"Experiences Offered\",\"Neighborhood Overview\",\"Notes\",\"Transit\",\"Access\",\"Interaction\",\n",
    "                       \"House Rules\",\"Medium Url\",\"Picture Url\",\"XL Picture Url\",\n",
    "                       \"Host ID\",\"Host URL\",\"Host Name\",\"Host Since\",\"Host Location\",\n",
    "                       \"Host About\", \"Host Response Time\", \"Host Response Rate\", \"Host Acceptance Rate\",\n",
    "                       \"Host Thumbnail Url\", \"Host Picture Url\", \"Host Neighbourhood\", \"Host Listings Count\",\n",
    "                       \"Host Total Listings Count\", \"Host Verifications\", \"Street\", \"Neighbourhood\",\n",
    "                       \"Neighbourhood Cleansed\", \"Neighbourhood Group Cleansed\", \"City\",\"State\", \"Market\", \"Smart Location\",\n",
    "                       \"Country Code\", \"Country\", \"Latitude\", \"Longitude\", \"Amenities\", \"Weekly Price\", \"Monthly Price\", \"Calendar Updated\",\n",
    "                       \"Has Availability\",\"Availability 30\",\"Availability 60\",\"Availability 90\",\"Availability 365\",\"Calendar last Scraped\",\"First Review\",\n",
    "                       \"Last Review\",\"Review Scores Rating\",\"Review Scores Accuracy\",\"Review Scores Cleanliness\",\"Review Scores Checkin\",\"Review Scores Communication\",\n",
    "                       \"Review Scores Location\",\"Review Scores Value\",\"License\",\"Jurisdiction Names\",\"Calculated host listings count\",\"Reviews per Month\",\n",
    "                       \"Geolocation\",\"Features\"]\n",
    "resultadosTest = resultadosTest.drop(columns=columnas_a_eliminar)\n",
    "\n",
    "resultadosTest = resultadosTest[resultadosTest[\"Price\"].notna()]\n",
    "if \"Zipcode\" in resultadosTest.columns:\n",
    "    resultadosTest[\"Zipcode\"] = resultadosTest[\"Zipcode\"].astype(str).str.replace(r'\\D', '', regex=True)\n",
    "    resultadosTest[\"Zipcode\"].replace('', \"28012\", inplace=True)  # Reemplaza las cadenas vacías con \"28012\"\n",
    "resultadosTest[\"Zipcode\"].fillna(\"28012\", inplace=True)  # Rellena los NaN con un valor predeterminado, como \"0\"\n",
    "resultadosTest[\"Zipcode\"] = resultadosTest[\"Zipcode\"].astype(int)\n",
    "resultadosTest[\"Bathrooms\"].fillna(median_bathrooms, inplace=True)\n",
    "resultadosTest[\"Bedrooms\"].fillna(median_Bedrooms, inplace=True)\n",
    "\n",
    "resultadosTest[\"Beds\"].fillna(median_Beds, inplace=True)\n",
    "resultadosTest[\"Security Deposit\"].fillna(median_SD, inplace=True)\n",
    "resultadosTest[\"Cleaning Fee\"].fillna(median_CF, inplace=True)\n",
    "resultadosTest.drop(\"Square Feet\", axis=1, inplace=True)\n",
    "resultadosTest = resultadosTest.drop(['Property Type', 'Room Type', 'Bed Type', 'Cancellation Policy'], axis=1)\n",
    "colstest = list(resultadosTest.columns)\n",
    "column_index_test = resultadosTest.columns.get_loc(\"Thumbnail Url\")\n",
    "colstest.append(colstest.pop(column_index_test))\n",
    "resultadosTest = resultadosTest[colstest]"
   ]
  },
  {
   "cell_type": "markdown",
   "metadata": {
    "id": "R9wU4Cy1mD1K"
   },
   "source": [
    "Normalización y conversión en el rango [0, 1]"
   ]
  },
  {
   "cell_type": "code",
   "execution_count": 28,
   "metadata": {
    "id": "3kbXMuimj_gk"
   },
   "outputs": [
    {
     "name": "stderr",
     "output_type": "stream",
     "text": [
      "100%|██████████| 1341/1341 [07:25<00:00,  3.01it/s]\n"
     ]
    },
    {
     "data": {
      "text/plain": [
       "(852, 224, 224, 3)"
      ]
     },
     "execution_count": 28,
     "metadata": {},
     "output_type": "execute_result"
    }
   ],
   "source": [
    "imagesTest, idxs_Test = download_images(resultadosTest['Thumbnail Url'], max_imgs=None)\n",
    "imagesTest = imagesTest.astype(\"float32\") / 255.\n",
    "imagesTest.shape"
   ]
  },
  {
   "cell_type": "code",
   "execution_count": 29,
   "metadata": {
    "id": "uZoE81_HkVoP"
   },
   "outputs": [
    {
     "data": {
      "text/html": [
       "<div>\n",
       "<style scoped>\n",
       "    .dataframe tbody tr th:only-of-type {\n",
       "        vertical-align: middle;\n",
       "    }\n",
       "\n",
       "    .dataframe tbody tr th {\n",
       "        vertical-align: top;\n",
       "    }\n",
       "\n",
       "    .dataframe thead th {\n",
       "        text-align: right;\n",
       "    }\n",
       "</style>\n",
       "<table border=\"1\" class=\"dataframe\">\n",
       "  <thead>\n",
       "    <tr style=\"text-align: right;\">\n",
       "      <th></th>\n",
       "      <th>Price</th>\n",
       "      <th>Zipcode</th>\n",
       "      <th>Accommodates</th>\n",
       "      <th>Bathrooms</th>\n",
       "      <th>Bedrooms</th>\n",
       "      <th>Beds</th>\n",
       "      <th>Security Deposit</th>\n",
       "      <th>Cleaning Fee</th>\n",
       "      <th>Guests Included</th>\n",
       "      <th>Extra People</th>\n",
       "      <th>Minimum Nights</th>\n",
       "      <th>Maximum Nights</th>\n",
       "      <th>Number of Reviews</th>\n",
       "      <th>Thumbnail Url</th>\n",
       "    </tr>\n",
       "  </thead>\n",
       "  <tbody>\n",
       "    <tr>\n",
       "      <th>1</th>\n",
       "      <td>22.0</td>\n",
       "      <td>280120</td>\n",
       "      <td>8</td>\n",
       "      <td>1.0</td>\n",
       "      <td>1.0</td>\n",
       "      <td>8.0</td>\n",
       "      <td>150.0</td>\n",
       "      <td>25.0</td>\n",
       "      <td>1</td>\n",
       "      <td>22</td>\n",
       "      <td>1</td>\n",
       "      <td>1125</td>\n",
       "      <td>15</td>\n",
       "      <td>https://a0.muscache.com/im/pictures/47542233/c...</td>\n",
       "    </tr>\n",
       "    <tr>\n",
       "      <th>3</th>\n",
       "      <td>149.0</td>\n",
       "      <td>28012</td>\n",
       "      <td>2</td>\n",
       "      <td>1.0</td>\n",
       "      <td>1.0</td>\n",
       "      <td>1.0</td>\n",
       "      <td>150.0</td>\n",
       "      <td>77.0</td>\n",
       "      <td>2</td>\n",
       "      <td>0</td>\n",
       "      <td>3</td>\n",
       "      <td>1125</td>\n",
       "      <td>1</td>\n",
       "      <td>https://a0.muscache.com/im/pictures/c7d30f39-7...</td>\n",
       "    </tr>\n",
       "    <tr>\n",
       "      <th>5</th>\n",
       "      <td>109.0</td>\n",
       "      <td>280040</td>\n",
       "      <td>4</td>\n",
       "      <td>2.0</td>\n",
       "      <td>1.0</td>\n",
       "      <td>2.0</td>\n",
       "      <td>150.0</td>\n",
       "      <td>30.0</td>\n",
       "      <td>2</td>\n",
       "      <td>15</td>\n",
       "      <td>2</td>\n",
       "      <td>1125</td>\n",
       "      <td>6</td>\n",
       "      <td>https://a0.muscache.com/im/pictures/c8c81bb9-9...</td>\n",
       "    </tr>\n",
       "    <tr>\n",
       "      <th>6</th>\n",
       "      <td>40.0</td>\n",
       "      <td>280050</td>\n",
       "      <td>2</td>\n",
       "      <td>1.5</td>\n",
       "      <td>1.0</td>\n",
       "      <td>2.0</td>\n",
       "      <td>100.0</td>\n",
       "      <td>25.0</td>\n",
       "      <td>1</td>\n",
       "      <td>15</td>\n",
       "      <td>5</td>\n",
       "      <td>1125</td>\n",
       "      <td>0</td>\n",
       "      <td>https://a0.muscache.com/im/pictures/dc31bb3b-f...</td>\n",
       "    </tr>\n",
       "    <tr>\n",
       "      <th>8</th>\n",
       "      <td>35.0</td>\n",
       "      <td>280150</td>\n",
       "      <td>2</td>\n",
       "      <td>1.0</td>\n",
       "      <td>0.0</td>\n",
       "      <td>2.0</td>\n",
       "      <td>92.0</td>\n",
       "      <td>25.0</td>\n",
       "      <td>1</td>\n",
       "      <td>10</td>\n",
       "      <td>7</td>\n",
       "      <td>1125</td>\n",
       "      <td>3</td>\n",
       "      <td>https://a0.muscache.com/im/pictures/d4bb05a2-e...</td>\n",
       "    </tr>\n",
       "    <tr>\n",
       "      <th>...</th>\n",
       "      <td>...</td>\n",
       "      <td>...</td>\n",
       "      <td>...</td>\n",
       "      <td>...</td>\n",
       "      <td>...</td>\n",
       "      <td>...</td>\n",
       "      <td>...</td>\n",
       "      <td>...</td>\n",
       "      <td>...</td>\n",
       "      <td>...</td>\n",
       "      <td>...</td>\n",
       "      <td>...</td>\n",
       "      <td>...</td>\n",
       "      <td>...</td>\n",
       "    </tr>\n",
       "    <tr>\n",
       "      <th>1394</th>\n",
       "      <td>41.0</td>\n",
       "      <td>280080</td>\n",
       "      <td>2</td>\n",
       "      <td>1.0</td>\n",
       "      <td>1.0</td>\n",
       "      <td>2.0</td>\n",
       "      <td>150.0</td>\n",
       "      <td>25.0</td>\n",
       "      <td>1</td>\n",
       "      <td>9</td>\n",
       "      <td>2</td>\n",
       "      <td>1125</td>\n",
       "      <td>9</td>\n",
       "      <td>https://a0.muscache.com/im/pictures/57081610/f...</td>\n",
       "    </tr>\n",
       "    <tr>\n",
       "      <th>1395</th>\n",
       "      <td>27.0</td>\n",
       "      <td>280140</td>\n",
       "      <td>2</td>\n",
       "      <td>1.0</td>\n",
       "      <td>1.0</td>\n",
       "      <td>1.0</td>\n",
       "      <td>200.0</td>\n",
       "      <td>10.0</td>\n",
       "      <td>1</td>\n",
       "      <td>10</td>\n",
       "      <td>2</td>\n",
       "      <td>365</td>\n",
       "      <td>110</td>\n",
       "      <td>https://a0.muscache.com/im/pictures/13595089/e...</td>\n",
       "    </tr>\n",
       "    <tr>\n",
       "      <th>1396</th>\n",
       "      <td>62.0</td>\n",
       "      <td>280050</td>\n",
       "      <td>4</td>\n",
       "      <td>1.0</td>\n",
       "      <td>1.0</td>\n",
       "      <td>2.0</td>\n",
       "      <td>150.0</td>\n",
       "      <td>20.0</td>\n",
       "      <td>2</td>\n",
       "      <td>15</td>\n",
       "      <td>1</td>\n",
       "      <td>1125</td>\n",
       "      <td>105</td>\n",
       "      <td>https://a0.muscache.com/im/pictures/eee1b1c8-6...</td>\n",
       "    </tr>\n",
       "    <tr>\n",
       "      <th>1398</th>\n",
       "      <td>70.0</td>\n",
       "      <td>280050</td>\n",
       "      <td>5</td>\n",
       "      <td>1.0</td>\n",
       "      <td>1.0</td>\n",
       "      <td>3.0</td>\n",
       "      <td>200.0</td>\n",
       "      <td>25.0</td>\n",
       "      <td>4</td>\n",
       "      <td>10</td>\n",
       "      <td>2</td>\n",
       "      <td>1125</td>\n",
       "      <td>2</td>\n",
       "      <td>https://a0.muscache.com/im/pictures/2d80dc99-b...</td>\n",
       "    </tr>\n",
       "    <tr>\n",
       "      <th>1399</th>\n",
       "      <td>48.0</td>\n",
       "      <td>280160</td>\n",
       "      <td>3</td>\n",
       "      <td>1.0</td>\n",
       "      <td>1.0</td>\n",
       "      <td>2.0</td>\n",
       "      <td>90.0</td>\n",
       "      <td>10.0</td>\n",
       "      <td>1</td>\n",
       "      <td>30</td>\n",
       "      <td>2</td>\n",
       "      <td>15</td>\n",
       "      <td>46</td>\n",
       "      <td>https://a0.muscache.com/im/pictures/5086151/55...</td>\n",
       "    </tr>\n",
       "  </tbody>\n",
       "</table>\n",
       "<p>852 rows × 14 columns</p>\n",
       "</div>"
      ],
      "text/plain": [
       "      Price  Zipcode  Accommodates  Bathrooms  Bedrooms  Beds  \\\n",
       "1      22.0   280120             8        1.0       1.0   8.0   \n",
       "3     149.0    28012             2        1.0       1.0   1.0   \n",
       "5     109.0   280040             4        2.0       1.0   2.0   \n",
       "6      40.0   280050             2        1.5       1.0   2.0   \n",
       "8      35.0   280150             2        1.0       0.0   2.0   \n",
       "...     ...      ...           ...        ...       ...   ...   \n",
       "1394   41.0   280080             2        1.0       1.0   2.0   \n",
       "1395   27.0   280140             2        1.0       1.0   1.0   \n",
       "1396   62.0   280050             4        1.0       1.0   2.0   \n",
       "1398   70.0   280050             5        1.0       1.0   3.0   \n",
       "1399   48.0   280160             3        1.0       1.0   2.0   \n",
       "\n",
       "      Security Deposit  Cleaning Fee  Guests Included  Extra People  \\\n",
       "1                150.0          25.0                1            22   \n",
       "3                150.0          77.0                2             0   \n",
       "5                150.0          30.0                2            15   \n",
       "6                100.0          25.0                1            15   \n",
       "8                 92.0          25.0                1            10   \n",
       "...                ...           ...              ...           ...   \n",
       "1394             150.0          25.0                1             9   \n",
       "1395             200.0          10.0                1            10   \n",
       "1396             150.0          20.0                2            15   \n",
       "1398             200.0          25.0                4            10   \n",
       "1399              90.0          10.0                1            30   \n",
       "\n",
       "      Minimum Nights  Maximum Nights  Number of Reviews  \\\n",
       "1                  1            1125                 15   \n",
       "3                  3            1125                  1   \n",
       "5                  2            1125                  6   \n",
       "6                  5            1125                  0   \n",
       "8                  7            1125                  3   \n",
       "...              ...             ...                ...   \n",
       "1394               2            1125                  9   \n",
       "1395               2             365                110   \n",
       "1396               1            1125                105   \n",
       "1398               2            1125                  2   \n",
       "1399               2              15                 46   \n",
       "\n",
       "                                          Thumbnail Url  \n",
       "1     https://a0.muscache.com/im/pictures/47542233/c...  \n",
       "3     https://a0.muscache.com/im/pictures/c7d30f39-7...  \n",
       "5     https://a0.muscache.com/im/pictures/c8c81bb9-9...  \n",
       "6     https://a0.muscache.com/im/pictures/dc31bb3b-f...  \n",
       "8     https://a0.muscache.com/im/pictures/d4bb05a2-e...  \n",
       "...                                                 ...  \n",
       "1394  https://a0.muscache.com/im/pictures/57081610/f...  \n",
       "1395  https://a0.muscache.com/im/pictures/13595089/e...  \n",
       "1396  https://a0.muscache.com/im/pictures/eee1b1c8-6...  \n",
       "1398  https://a0.muscache.com/im/pictures/2d80dc99-b...  \n",
       "1399  https://a0.muscache.com/im/pictures/5086151/55...  \n",
       "\n",
       "[852 rows x 14 columns]"
      ]
     },
     "execution_count": 29,
     "metadata": {},
     "output_type": "execute_result"
    }
   ],
   "source": [
    "filtered_data_Test = resultadosTest.iloc[idxs_Test]\n",
    "filtered_data_Test"
   ]
  },
  {
   "cell_type": "code",
   "execution_count": 30,
   "metadata": {
    "id": "gBth9CDcn8yv"
   },
   "outputs": [],
   "source": [
    "numpy.save('imagesTest.npy', imagesTest)\n",
    "filtered_data_Test.to_csv('filtered_data_Test.csv', sep=';', index=False)"
   ]
  },
  {
   "cell_type": "code",
   "execution_count": 31,
   "metadata": {
    "id": "_MM1VgItqwUk"
   },
   "outputs": [
    {
     "data": {
      "text/plain": [
       "((852, 14), (852, 224, 224, 3))"
      ]
     },
     "execution_count": 31,
     "metadata": {},
     "output_type": "execute_result"
    }
   ],
   "source": [
    "# Comprobamos a abrirlos de nuevo\n",
    "saved_data_Test = pandas.read_csv(\"filtered_data_Test.csv\", sep=';')\n",
    "saved_imgs_Test = numpy.load(\"imagesTest.npy\")\n",
    "saved_data_Test.shape, saved_imgs_Test.shape"
   ]
  },
  {
   "cell_type": "code",
   "execution_count": 32,
   "metadata": {
    "id": "2THMBGK-kAjp"
   },
   "outputs": [],
   "source": [
    "y_test = saved_data_Test.iloc[:, 0:1]      # nos quedamos con la 1ª columna, price\n",
    "X_test = saved_data_Test.iloc[:,1:-1]      # nos quedamos con el resto\n",
    "\n",
    "\n",
    "# recordad que esta normalización/escalado la realizo con el scaler anterior, basado en los datos de training!\n",
    "XtestScaled = scaler.transform(X_test)\n",
    "X_test = XtestScaled"
   ]
  },
  {
   "cell_type": "markdown",
   "metadata": {
    "id": "-m43KXUJeCsP"
   },
   "source": [
    "# Validacion"
   ]
  },
  {
   "cell_type": "code",
   "execution_count": 33,
   "metadata": {
    "id": "AL9xmjfGevsm"
   },
   "outputs": [
    {
     "name": "stdout",
     "output_type": "stream",
     "text": [
      "['Price', 'Thumbnail Url', 'Zipcode', 'Accommodates', 'Bathrooms', 'Bedrooms', 'Beds', 'Security Deposit', 'Cleaning Fee', 'Guests Included', 'Extra People', 'Minimum Nights', 'Maximum Nights', 'Number of Reviews']\n"
     ]
    }
   ],
   "source": [
    "dataVal = pandas.read_csv('validation.csv', sep=';', decimal='.')\n",
    "# Extraer la columna \"Precio\"\n",
    "price_column = dataVal['Price']\n",
    "# Eliminar la columna \"Precio\" del dataVal\n",
    "dataVal.drop('Price', axis=1, inplace=True)\n",
    "# Insertar la columna \"Price\" en la primera posición del dataVal\n",
    "dataVal.insert(0, 'Price', price_column)\n",
    "\n",
    "dataVal = dataVal.dropna(subset=[\"City\"])\n",
    "# Filtra los valores de la columna \"City\" que contienen \"Madrid\" (sin distinguir mayúsculas y minúsculas)\n",
    "filtro = dataVal[\"City\"].str.contains(\"Madrid\", case=False)\n",
    "\n",
    "# Aplica el filtro al dataVal\n",
    "resultadosVal = dataVal[filtro]\n",
    "# Elimina las columnas especificadas del dataVal\n",
    "columnas_a_eliminar = [\"ID\",\"Listing Url\",\"Scrape ID\",\"Last Scraped\",\"Name\",\"Summary\",\"Space\",\"Description\",\n",
    "                       \"Experiences Offered\",\"Neighborhood Overview\",\"Notes\",\"Transit\",\"Access\",\"Interaction\",\n",
    "                       \"House Rules\",\"Medium Url\",\"Picture Url\",\"XL Picture Url\",\n",
    "                       \"Host ID\",\"Host URL\",\"Host Name\",\"Host Since\",\"Host Location\",\n",
    "                       \"Host About\", \"Host Response Time\", \"Host Response Rate\", \"Host Acceptance Rate\",\n",
    "                       \"Host Thumbnail Url\", \"Host Picture Url\", \"Host Neighbourhood\", \"Host Listings Count\",\n",
    "                       \"Host Total Listings Count\", \"Host Verifications\", \"Street\", \"Neighbourhood\",\n",
    "                       \"Neighbourhood Cleansed\", \"Neighbourhood Group Cleansed\", \"City\",\"State\", \"Market\", \"Smart Location\",\n",
    "                       \"Country Code\", \"Country\", \"Latitude\", \"Longitude\", \"Amenities\", \"Weekly Price\", \"Monthly Price\", \"Calendar Updated\",\n",
    "                       \"Has Availability\",\"Availability 30\",\"Availability 60\",\"Availability 90\",\"Availability 365\",\"Calendar last Scraped\",\"First Review\",\n",
    "                       \"Last Review\",\"Review Scores Rating\",\"Review Scores Accuracy\",\"Review Scores Cleanliness\",\"Review Scores Checkin\",\"Review Scores Communication\",\n",
    "                       \"Review Scores Location\",\"Review Scores Value\",\"License\",\"Jurisdiction Names\",\"Calculated host listings count\",\"Reviews per Month\",\n",
    "                       \"Geolocation\",\"Features\"]\n",
    "resultadosVal = resultadosVal.drop(columns=columnas_a_eliminar)\n",
    "\n",
    "resultadosVal = resultadosVal[resultadosVal[\"Price\"].notna()]\n",
    "\n",
    "if \"Zipcode\" in resultadosVal.columns:\n",
    "    resultadosVal[\"Zipcode\"] = resultadosVal[\"Zipcode\"].astype(str).str.replace(r'\\D', '', regex=True)\n",
    "    resultadosVal[\"Zipcode\"].replace('', \"28012\", inplace=True)  # Reemplaza las cadenas vacías con \"28012\"\n",
    "resultadosVal[\"Zipcode\"].fillna(\"28012\", inplace=True)  # Rellena los NaN con un valor predeterminado, como \"0\"\n",
    "resultadosVal[\"Zipcode\"] = resultadosVal[\"Zipcode\"].astype(int)\n",
    "resultadosVal[\"Bathrooms\"].fillna(median_bathrooms, inplace=True)\n",
    "resultadosVal[\"Bedrooms\"].fillna(median_Bedrooms, inplace=True)\n",
    "\n",
    "resultadosVal[\"Beds\"].fillna(median_Beds, inplace=True)\n",
    "resultadosVal[\"Security Deposit\"].fillna(median_SD, inplace=True)\n",
    "resultadosVal[\"Cleaning Fee\"].fillna(median_CF, inplace=True)\n",
    "resultadosVal.drop(\"Square Feet\", axis=1, inplace=True)\n",
    "resultadosVal = resultadosVal.drop(['Property Type', 'Room Type', 'Bed Type', 'Cancellation Policy'], axis=1)\n",
    "\n",
    "colsval = list(resultadosVal.columns)\n",
    "print(colsval)\n",
    "column_index_val =  resultadosVal.columns.get_loc(\"Thumbnail Url\")\n",
    "colsval.append(colsval.pop(column_index_val))\n",
    "resultadosVal = resultadosVal[colsval]\n"
   ]
  },
  {
   "cell_type": "markdown",
   "metadata": {
    "id": "W59EsC6XlPQ0"
   },
   "source": [
    "Normalización y conversión en el rango [0, 1]"
   ]
  },
  {
   "cell_type": "code",
   "execution_count": 34,
   "metadata": {
    "id": "S-y2Ae6wkwEY"
   },
   "outputs": [
    {
     "name": "stderr",
     "output_type": "stream",
     "text": [
      "100%|██████████| 1321/1321 [07:53<00:00,  2.79it/s]\n"
     ]
    },
    {
     "data": {
      "text/plain": [
       "(839, 224, 224, 3)"
      ]
     },
     "execution_count": 34,
     "metadata": {},
     "output_type": "execute_result"
    }
   ],
   "source": [
    "imagesVal, idxs_Val = download_images(resultadosVal['Thumbnail Url'], max_imgs=None)\n",
    "imagesVal = imagesVal.astype(\"float32\") / 255.\n",
    "imagesVal.shape"
   ]
  },
  {
   "cell_type": "code",
   "execution_count": 35,
   "metadata": {
    "id": "u1OlxhjXlSxO"
   },
   "outputs": [
    {
     "data": {
      "text/html": [
       "<div>\n",
       "<style scoped>\n",
       "    .dataframe tbody tr th:only-of-type {\n",
       "        vertical-align: middle;\n",
       "    }\n",
       "\n",
       "    .dataframe tbody tr th {\n",
       "        vertical-align: top;\n",
       "    }\n",
       "\n",
       "    .dataframe thead th {\n",
       "        text-align: right;\n",
       "    }\n",
       "</style>\n",
       "<table border=\"1\" class=\"dataframe\">\n",
       "  <thead>\n",
       "    <tr style=\"text-align: right;\">\n",
       "      <th></th>\n",
       "      <th>Price</th>\n",
       "      <th>Zipcode</th>\n",
       "      <th>Accommodates</th>\n",
       "      <th>Bathrooms</th>\n",
       "      <th>Bedrooms</th>\n",
       "      <th>Beds</th>\n",
       "      <th>Security Deposit</th>\n",
       "      <th>Cleaning Fee</th>\n",
       "      <th>Guests Included</th>\n",
       "      <th>Extra People</th>\n",
       "      <th>Minimum Nights</th>\n",
       "      <th>Maximum Nights</th>\n",
       "      <th>Number of Reviews</th>\n",
       "      <th>Thumbnail Url</th>\n",
       "    </tr>\n",
       "  </thead>\n",
       "  <tbody>\n",
       "    <tr>\n",
       "      <th>1</th>\n",
       "      <td>30.0</td>\n",
       "      <td>280130</td>\n",
       "      <td>2</td>\n",
       "      <td>1.0</td>\n",
       "      <td>1.0</td>\n",
       "      <td>1.0</td>\n",
       "      <td>150.0</td>\n",
       "      <td>25.0</td>\n",
       "      <td>1</td>\n",
       "      <td>15</td>\n",
       "      <td>1</td>\n",
       "      <td>30</td>\n",
       "      <td>250</td>\n",
       "      <td>https://a0.muscache.com/im/pictures/6e38aabe-9...</td>\n",
       "    </tr>\n",
       "    <tr>\n",
       "      <th>3</th>\n",
       "      <td>50.0</td>\n",
       "      <td>280040</td>\n",
       "      <td>2</td>\n",
       "      <td>1.0</td>\n",
       "      <td>1.0</td>\n",
       "      <td>1.0</td>\n",
       "      <td>150.0</td>\n",
       "      <td>25.0</td>\n",
       "      <td>1</td>\n",
       "      <td>0</td>\n",
       "      <td>2</td>\n",
       "      <td>10</td>\n",
       "      <td>22</td>\n",
       "      <td>https://a0.muscache.com/im/pictures/107390143/...</td>\n",
       "    </tr>\n",
       "    <tr>\n",
       "      <th>5</th>\n",
       "      <td>95.0</td>\n",
       "      <td>280020</td>\n",
       "      <td>2</td>\n",
       "      <td>1.0</td>\n",
       "      <td>2.0</td>\n",
       "      <td>1.0</td>\n",
       "      <td>200.0</td>\n",
       "      <td>40.0</td>\n",
       "      <td>1</td>\n",
       "      <td>0</td>\n",
       "      <td>4</td>\n",
       "      <td>1125</td>\n",
       "      <td>0</td>\n",
       "      <td>https://a0.muscache.com/im/pictures/815ee1e7-e...</td>\n",
       "    </tr>\n",
       "    <tr>\n",
       "      <th>6</th>\n",
       "      <td>536.0</td>\n",
       "      <td>280140</td>\n",
       "      <td>7</td>\n",
       "      <td>4.0</td>\n",
       "      <td>4.0</td>\n",
       "      <td>5.0</td>\n",
       "      <td>150.0</td>\n",
       "      <td>103.0</td>\n",
       "      <td>1</td>\n",
       "      <td>0</td>\n",
       "      <td>3</td>\n",
       "      <td>1125</td>\n",
       "      <td>0</td>\n",
       "      <td>https://a0.muscache.com/im/pictures/38b074c3-1...</td>\n",
       "    </tr>\n",
       "    <tr>\n",
       "      <th>7</th>\n",
       "      <td>16.0</td>\n",
       "      <td>280190</td>\n",
       "      <td>2</td>\n",
       "      <td>1.0</td>\n",
       "      <td>1.0</td>\n",
       "      <td>1.0</td>\n",
       "      <td>150.0</td>\n",
       "      <td>5.0</td>\n",
       "      <td>1</td>\n",
       "      <td>10</td>\n",
       "      <td>3</td>\n",
       "      <td>1125</td>\n",
       "      <td>2</td>\n",
       "      <td>https://a0.muscache.com/im/pictures/f9cfb13e-4...</td>\n",
       "    </tr>\n",
       "    <tr>\n",
       "      <th>...</th>\n",
       "      <td>...</td>\n",
       "      <td>...</td>\n",
       "      <td>...</td>\n",
       "      <td>...</td>\n",
       "      <td>...</td>\n",
       "      <td>...</td>\n",
       "      <td>...</td>\n",
       "      <td>...</td>\n",
       "      <td>...</td>\n",
       "      <td>...</td>\n",
       "      <td>...</td>\n",
       "      <td>...</td>\n",
       "      <td>...</td>\n",
       "      <td>...</td>\n",
       "    </tr>\n",
       "    <tr>\n",
       "      <th>1392</th>\n",
       "      <td>120.0</td>\n",
       "      <td>280040</td>\n",
       "      <td>4</td>\n",
       "      <td>1.0</td>\n",
       "      <td>1.0</td>\n",
       "      <td>2.0</td>\n",
       "      <td>100.0</td>\n",
       "      <td>25.0</td>\n",
       "      <td>2</td>\n",
       "      <td>30</td>\n",
       "      <td>2</td>\n",
       "      <td>1125</td>\n",
       "      <td>2</td>\n",
       "      <td>https://a0.muscache.com/im/pictures/aa83c8d8-5...</td>\n",
       "    </tr>\n",
       "    <tr>\n",
       "      <th>1393</th>\n",
       "      <td>50.0</td>\n",
       "      <td>280080</td>\n",
       "      <td>2</td>\n",
       "      <td>1.5</td>\n",
       "      <td>1.0</td>\n",
       "      <td>2.0</td>\n",
       "      <td>150.0</td>\n",
       "      <td>25.0</td>\n",
       "      <td>1</td>\n",
       "      <td>0</td>\n",
       "      <td>1</td>\n",
       "      <td>1125</td>\n",
       "      <td>7</td>\n",
       "      <td>https://a0.muscache.com/im/pictures/7d31cf89-8...</td>\n",
       "    </tr>\n",
       "    <tr>\n",
       "      <th>1396</th>\n",
       "      <td>55.0</td>\n",
       "      <td>280060</td>\n",
       "      <td>2</td>\n",
       "      <td>1.0</td>\n",
       "      <td>1.0</td>\n",
       "      <td>2.0</td>\n",
       "      <td>150.0</td>\n",
       "      <td>25.0</td>\n",
       "      <td>1</td>\n",
       "      <td>0</td>\n",
       "      <td>2</td>\n",
       "      <td>1125</td>\n",
       "      <td>2</td>\n",
       "      <td>https://a0.muscache.com/im/pictures/d3dd82f1-3...</td>\n",
       "    </tr>\n",
       "    <tr>\n",
       "      <th>1397</th>\n",
       "      <td>40.0</td>\n",
       "      <td>280260</td>\n",
       "      <td>2</td>\n",
       "      <td>1.0</td>\n",
       "      <td>1.0</td>\n",
       "      <td>2.0</td>\n",
       "      <td>150.0</td>\n",
       "      <td>5.0</td>\n",
       "      <td>1</td>\n",
       "      <td>0</td>\n",
       "      <td>1</td>\n",
       "      <td>1125</td>\n",
       "      <td>3</td>\n",
       "      <td>https://a0.muscache.com/im/pictures/86653357/f...</td>\n",
       "    </tr>\n",
       "    <tr>\n",
       "      <th>1398</th>\n",
       "      <td>47.0</td>\n",
       "      <td>28012</td>\n",
       "      <td>1</td>\n",
       "      <td>2.0</td>\n",
       "      <td>1.0</td>\n",
       "      <td>1.0</td>\n",
       "      <td>94.0</td>\n",
       "      <td>25.0</td>\n",
       "      <td>1</td>\n",
       "      <td>0</td>\n",
       "      <td>1</td>\n",
       "      <td>1125</td>\n",
       "      <td>0</td>\n",
       "      <td>https://a0.muscache.com/im/pictures/70fc1766-c...</td>\n",
       "    </tr>\n",
       "  </tbody>\n",
       "</table>\n",
       "<p>839 rows × 14 columns</p>\n",
       "</div>"
      ],
      "text/plain": [
       "      Price  Zipcode  Accommodates  Bathrooms  Bedrooms  Beds  \\\n",
       "1      30.0   280130             2        1.0       1.0   1.0   \n",
       "3      50.0   280040             2        1.0       1.0   1.0   \n",
       "5      95.0   280020             2        1.0       2.0   1.0   \n",
       "6     536.0   280140             7        4.0       4.0   5.0   \n",
       "7      16.0   280190             2        1.0       1.0   1.0   \n",
       "...     ...      ...           ...        ...       ...   ...   \n",
       "1392  120.0   280040             4        1.0       1.0   2.0   \n",
       "1393   50.0   280080             2        1.5       1.0   2.0   \n",
       "1396   55.0   280060             2        1.0       1.0   2.0   \n",
       "1397   40.0   280260             2        1.0       1.0   2.0   \n",
       "1398   47.0    28012             1        2.0       1.0   1.0   \n",
       "\n",
       "      Security Deposit  Cleaning Fee  Guests Included  Extra People  \\\n",
       "1                150.0          25.0                1            15   \n",
       "3                150.0          25.0                1             0   \n",
       "5                200.0          40.0                1             0   \n",
       "6                150.0         103.0                1             0   \n",
       "7                150.0           5.0                1            10   \n",
       "...                ...           ...              ...           ...   \n",
       "1392             100.0          25.0                2            30   \n",
       "1393             150.0          25.0                1             0   \n",
       "1396             150.0          25.0                1             0   \n",
       "1397             150.0           5.0                1             0   \n",
       "1398              94.0          25.0                1             0   \n",
       "\n",
       "      Minimum Nights  Maximum Nights  Number of Reviews  \\\n",
       "1                  1              30                250   \n",
       "3                  2              10                 22   \n",
       "5                  4            1125                  0   \n",
       "6                  3            1125                  0   \n",
       "7                  3            1125                  2   \n",
       "...              ...             ...                ...   \n",
       "1392               2            1125                  2   \n",
       "1393               1            1125                  7   \n",
       "1396               2            1125                  2   \n",
       "1397               1            1125                  3   \n",
       "1398               1            1125                  0   \n",
       "\n",
       "                                          Thumbnail Url  \n",
       "1     https://a0.muscache.com/im/pictures/6e38aabe-9...  \n",
       "3     https://a0.muscache.com/im/pictures/107390143/...  \n",
       "5     https://a0.muscache.com/im/pictures/815ee1e7-e...  \n",
       "6     https://a0.muscache.com/im/pictures/38b074c3-1...  \n",
       "7     https://a0.muscache.com/im/pictures/f9cfb13e-4...  \n",
       "...                                                 ...  \n",
       "1392  https://a0.muscache.com/im/pictures/aa83c8d8-5...  \n",
       "1393  https://a0.muscache.com/im/pictures/7d31cf89-8...  \n",
       "1396  https://a0.muscache.com/im/pictures/d3dd82f1-3...  \n",
       "1397  https://a0.muscache.com/im/pictures/86653357/f...  \n",
       "1398  https://a0.muscache.com/im/pictures/70fc1766-c...  \n",
       "\n",
       "[839 rows x 14 columns]"
      ]
     },
     "execution_count": 35,
     "metadata": {},
     "output_type": "execute_result"
    }
   ],
   "source": [
    "filtered_data_Val = resultadosVal.iloc[idxs_Val]\n",
    "filtered_data_Val"
   ]
  },
  {
   "cell_type": "code",
   "execution_count": 36,
   "metadata": {
    "id": "FdYWMgS6oABl"
   },
   "outputs": [],
   "source": [
    "numpy.save('imagesVal.npy', imagesVal)\n",
    "filtered_data_Val.to_csv('filtered_data_Val.csv', sep=';', index=False)"
   ]
  },
  {
   "cell_type": "code",
   "execution_count": 37,
   "metadata": {
    "id": "yLX1ByamphPV"
   },
   "outputs": [
    {
     "data": {
      "text/plain": [
       "((839, 14), (839, 224, 224, 3))"
      ]
     },
     "execution_count": 37,
     "metadata": {},
     "output_type": "execute_result"
    }
   ],
   "source": [
    "# Comprobamos a abrirlos de nuevo\n",
    "saved_data_Val = pandas.read_csv(\"filtered_data_Val.csv\", sep=';')\n",
    "saved_imgs_Val = numpy.load(\"imagesVal.npy\")\n",
    "saved_data_Val.shape, saved_imgs_Val.shape"
   ]
  },
  {
   "cell_type": "code",
   "execution_count": 38,
   "metadata": {
    "id": "TttDEyYPlq93"
   },
   "outputs": [],
   "source": [
    "y_val = saved_data_Val.iloc[:,0:1]     # nos quedamos con la 1ª columna, price\n",
    "X_val = saved_data_Val.iloc[:,1:-1]      # nos quedamos con el resto\n",
    "\n",
    "\n",
    "# recordad que esta normalización/escalado la realizo con el scaler anterior, basado en los datos de training!\n",
    "XvalScaled = scaler.transform(X_val)\n",
    "\n",
    "X_test = XvalScaled"
   ]
  },
  {
   "cell_type": "markdown",
   "metadata": {
    "id": "mRDhGeMUuQdQ"
   },
   "source": [
    "Así, por ejemplo, cargamos y visualizamos la distribución de las etiquetas:"
   ]
  },
  {
   "cell_type": "code",
   "execution_count": 39,
   "metadata": {
    "id": "ECahaJDVuUwS"
   },
   "outputs": [
    {
     "name": "stdout",
     "output_type": "stream",
     "text": [
      "<class 'pandas.core.frame.DataFrame'>\n",
      "RangeIndex: 6762 entries, 0 to 6761\n",
      "Data columns (total 14 columns):\n",
      " #   Column             Non-Null Count  Dtype  \n",
      "---  ------             --------------  -----  \n",
      " 0   Price              6762 non-null   float64\n",
      " 1   Zipcode            6762 non-null   int64  \n",
      " 2   Accommodates       6762 non-null   int64  \n",
      " 3   Bathrooms          6762 non-null   float64\n",
      " 4   Bedrooms           6762 non-null   float64\n",
      " 5   Beds               6762 non-null   float64\n",
      " 6   Security Deposit   6762 non-null   float64\n",
      " 7   Cleaning Fee       6762 non-null   float64\n",
      " 8   Guests Included    6762 non-null   int64  \n",
      " 9   Extra People       6762 non-null   int64  \n",
      " 10  Minimum Nights     6762 non-null   int64  \n",
      " 11  Maximum Nights     6762 non-null   int64  \n",
      " 12  Number of Reviews  6762 non-null   int64  \n",
      " 13  Thumbnail Url      6762 non-null   object \n",
      "dtypes: float64(6), int64(7), object(1)\n",
      "memory usage: 739.7+ KB\n"
     ]
    }
   ],
   "source": [
    "saved_data_Train['Price'].hist(bins=100)\n",
    "saved_data_Train.info()"
   ]
  },
  {
   "cell_type": "code",
   "execution_count": 40,
   "metadata": {
    "id": "BvZ6gLXA2zsZ"
   },
   "outputs": [
    {
     "name": "stdout",
     "output_type": "stream",
     "text": [
      "<class 'pandas.core.frame.DataFrame'>\n",
      "RangeIndex: 852 entries, 0 to 851\n",
      "Data columns (total 14 columns):\n",
      " #   Column             Non-Null Count  Dtype  \n",
      "---  ------             --------------  -----  \n",
      " 0   Price              852 non-null    float64\n",
      " 1   Zipcode            852 non-null    int64  \n",
      " 2   Accommodates       852 non-null    int64  \n",
      " 3   Bathrooms          852 non-null    float64\n",
      " 4   Bedrooms           852 non-null    float64\n",
      " 5   Beds               852 non-null    float64\n",
      " 6   Security Deposit   852 non-null    float64\n",
      " 7   Cleaning Fee       852 non-null    float64\n",
      " 8   Guests Included    852 non-null    int64  \n",
      " 9   Extra People       852 non-null    int64  \n",
      " 10  Minimum Nights     852 non-null    int64  \n",
      " 11  Maximum Nights     852 non-null    int64  \n",
      " 12  Number of Reviews  852 non-null    int64  \n",
      " 13  Thumbnail Url      852 non-null    object \n",
      "dtypes: float64(6), int64(7), object(1)\n",
      "memory usage: 93.3+ KB\n"
     ]
    }
   ],
   "source": [
    "saved_data_Test['Price'].hist(bins=100)\n",
    "saved_data_Test.info()"
   ]
  },
  {
   "cell_type": "code",
   "execution_count": 41,
   "metadata": {},
   "outputs": [
    {
     "name": "stdout",
     "output_type": "stream",
     "text": [
      "<class 'pandas.core.frame.DataFrame'>\n",
      "RangeIndex: 839 entries, 0 to 838\n",
      "Data columns (total 14 columns):\n",
      " #   Column             Non-Null Count  Dtype  \n",
      "---  ------             --------------  -----  \n",
      " 0   Price              839 non-null    float64\n",
      " 1   Zipcode            839 non-null    int64  \n",
      " 2   Accommodates       839 non-null    int64  \n",
      " 3   Bathrooms          839 non-null    float64\n",
      " 4   Bedrooms           839 non-null    float64\n",
      " 5   Beds               839 non-null    float64\n",
      " 6   Security Deposit   839 non-null    float64\n",
      " 7   Cleaning Fee       839 non-null    float64\n",
      " 8   Guests Included    839 non-null    int64  \n",
      " 9   Extra People       839 non-null    int64  \n",
      " 10  Minimum Nights     839 non-null    int64  \n",
      " 11  Maximum Nights     839 non-null    int64  \n",
      " 12  Number of Reviews  839 non-null    int64  \n",
      " 13  Thumbnail Url      839 non-null    object \n",
      "dtypes: float64(6), int64(7), object(1)\n",
      "memory usage: 91.9+ KB\n"
     ]
    }
   ],
   "source": [
    "saved_data_Val['Price'].hist(bins=100)\n",
    "saved_data_Val.info()"
   ]
  },
  {
   "cell_type": "code",
   "execution_count": 42,
   "metadata": {},
   "outputs": [
    {
     "name": "stdout",
     "output_type": "stream",
     "text": [
      "No hay valores NaN en el DataFrame saved_data_Test\n",
      "No hay valores NaN en el DataFrame saved_data_Train\n",
      "No hay valores NaN en el DataFrame saved_data_Val\n"
     ]
    }
   ],
   "source": [
    "# Verificar si hay valores NaN en alguna columna del DataFrame\n",
    "if saved_data_Test.isna().any().any():\n",
    "    print(\"Hay valores NaN en el DataFrame saved_data_Test\")\n",
    "else:\n",
    "    print(\"No hay valores NaN en el DataFrame saved_data_Test\")\n",
    "# Verificar si hay valores NaN en alguna columna del DataFrame\n",
    "if saved_data_Train.isna().any().any():\n",
    "    print(\"Hay valores NaN en el DataFrame saved_data_Train\")\n",
    "else:\n",
    "    print(\"No hay valores NaN en el DataFrame saved_data_Train\")\n",
    "# Verificar si hay valores NaN en alguna columna del DataFrame\n",
    "if saved_data_Val.isna().any().any():\n",
    "    print(\"Hay valores NaN en el DataFrame saved_data_Val\")\n",
    "else:\n",
    "    print(\"No hay valores NaN en el DataFrame saved_data_Val\")\n"
   ]
  },
  {
   "cell_type": "code",
   "execution_count": null,
   "metadata": {},
   "outputs": [],
   "source": []
  }
 ],
 "metadata": {
  "colab": {
   "provenance": []
  },
  "kernelspec": {
   "display_name": "Python 3",
   "language": "python",
   "name": "python3"
  },
  "language_info": {
   "codemirror_mode": {
    "name": "ipython",
    "version": 3
   },
   "file_extension": ".py",
   "mimetype": "text/x-python",
   "name": "python",
   "nbconvert_exporter": "python",
   "pygments_lexer": "ipython3",
   "version": "3.8.10"
  }
 },
 "nbformat": 4,
 "nbformat_minor": 1
}
